{
  "nbformat": 4,
  "nbformat_minor": 0,
  "metadata": {
    "colab": {
      "name": "Training and Testing Data.ipynb",
      "provenance": [],
      "authorship_tag": "ABX9TyPTROK+PuVtr4nOQgMtzVox",
      "include_colab_link": true
    },
    "kernelspec": {
      "name": "python3",
      "display_name": "Python 3"
    },
    "language_info": {
      "name": "python"
    }
  },
  "cells": [
    {
      "cell_type": "markdown",
      "metadata": {
        "id": "view-in-github",
        "colab_type": "text"
      },
      "source": [
        "<a href=\"https://colab.research.google.com/github/deborahtrez/machine-learning/blob/master/Training_and_Testing_Data.ipynb\" target=\"_parent\"><img src=\"https://colab.research.google.com/assets/colab-badge.svg\" alt=\"Open In Colab\"/></a>"
      ]
    },
    {
      "cell_type": "code",
      "metadata": {
        "colab": {
          "base_uri": "https://localhost:8080/"
        },
        "id": "7tuJMRIES1jm",
        "outputId": "883c4b73-8ca7-4beb-a091-0bcb79622b5d"
      },
      "source": [
        "!pip install sklearn\n",
        "\n",
        "import os\n",
        "import sys\n",
        "\n",
        "import numpy as np\n",
        "import pandas as pd #for visualizing data - data analytics eg if you need to remove some columns\n",
        "import matplotlib.pyplot as plt #for plotting graphs and charts\n",
        "from IPython.display import clear_output #for clearning the display\n",
        "from six.moves import urllib\n",
        "\n",
        "import tensorflow.compat.v2.feature_column as fc\n",
        "import tensorflow as tf"
      ],
      "execution_count": null,
      "outputs": [
        {
          "output_type": "stream",
          "text": [
            "Requirement already satisfied: sklearn in /usr/local/lib/python3.7/dist-packages (0.0)\n",
            "Requirement already satisfied: scikit-learn in /usr/local/lib/python3.7/dist-packages (from sklearn) (0.22.2.post1)\n",
            "Requirement already satisfied: numpy>=1.11.0 in /usr/local/lib/python3.7/dist-packages (from scikit-learn->sklearn) (1.19.5)\n",
            "Requirement already satisfied: scipy>=0.17.0 in /usr/local/lib/python3.7/dist-packages (from scikit-learn->sklearn) (1.4.1)\n",
            "Requirement already satisfied: joblib>=0.11 in /usr/local/lib/python3.7/dist-packages (from scikit-learn->sklearn) (1.0.1)\n"
          ],
          "name": "stdout"
        }
      ]
    },
    {
      "cell_type": "code",
      "metadata": {
        "id": "evvC2wUkUDmL"
      },
      "source": [
        "# Load dataset.\n",
        "dftrain = pd.read_csv('https://storage.googleapis.com/tf-datasets/titanic/train.csv') #this dataset is for training the model\n",
        "dfeval = pd.read_csv('https://storage.googleapis.com/tf-datasets/titanic/eval.csv') #this dataset is for testing the model\n",
        "\n",
        "y_train = dftrain.pop('survived') \n",
        "y_eval = dfeval.pop('survived')"
      ],
      "execution_count": null,
      "outputs": []
    },
    {
      "cell_type": "code",
      "metadata": {
        "id": "yqzX1IzNU2YN"
      },
      "source": [
        "CATEGORICAL_COLUMNS = ['sex', 'n_siblings_spouses', 'parch', 'class', 'deck', 'embark_town', 'alone'] #columns with non numerical data\n",
        "#So categorical data is usually represented by numbers/integers so that it is easy to pass in, say females will be `1` and males will be `0`\n",
        "#Tensorflow can help us achieve this categorization\n",
        "\n",
        "NUMERIC_COLUMNS = ['age', 'fare']\n",
        "\n",
        "feature_columns = []\n",
        "for feature_name in CATEGORICAL_COLUMNS: #this will loop through all of the categorical columns and ...\n",
        "  vocabulary = dftrain[feature_name].unique() #gets list of all the unique values from each feature column\n",
        "  feature_columns.append(tf.feature_column.categorical_column_with_vocabulary_list(feature_name, vocabulary))\n",
        "\n",
        "for feature_name in NUMERIC_COLUMNS:\n",
        "  feature_columns.append(tf.feature_column.numeric_column(feature_name, dtype=tf.float32))"
      ],
      "execution_count": null,
      "outputs": []
    },
    {
      "cell_type": "code",
      "metadata": {
        "colab": {
          "base_uri": "https://localhost:8080/"
        },
        "id": "pxLlTKqsXfsq",
        "outputId": "7e27d804-b661-4a5a-8dd3-c6554bb58b3c"
      },
      "source": [
        "#lets see what this does\n",
        "dftrain[\"sex\"].unique()"
      ],
      "execution_count": null,
      "outputs": [
        {
          "output_type": "execute_result",
          "data": {
            "text/plain": [
              "array(['male', 'female'], dtype=object)"
            ]
          },
          "metadata": {
            "tags": []
          },
          "execution_count": 5
        }
      ]
    },
    {
      "cell_type": "code",
      "metadata": {
        "colab": {
          "base_uri": "https://localhost:8080/"
        },
        "id": "ZspmkwtEX51h",
        "outputId": "35383b19-2802-4fa5-e749-19e07ab09816"
      },
      "source": [
        "dftrain[\"embark_town\"].unique()"
      ],
      "execution_count": null,
      "outputs": [
        {
          "output_type": "execute_result",
          "data": {
            "text/plain": [
              "array(['Southampton', 'Cherbourg', 'Queenstown', 'unknown'], dtype=object)"
            ]
          },
          "metadata": {
            "tags": []
          },
          "execution_count": 6
        }
      ]
    },
    {
      "cell_type": "code",
      "metadata": {
        "colab": {
          "base_uri": "https://localhost:8080/"
        },
        "id": "zWPZM2SAYApR",
        "outputId": "f08af7a9-a0c9-46a6-9c2c-da7a6d99deca"
      },
      "source": [
        "dftrain[\"n_siblings_spouses\"].unique()"
      ],
      "execution_count": null,
      "outputs": [
        {
          "output_type": "execute_result",
          "data": {
            "text/plain": [
              "array([1, 0, 3, 4, 2, 5, 8])"
            ]
          },
          "metadata": {
            "tags": []
          },
          "execution_count": 7
        }
      ]
    },
    {
      "cell_type": "code",
      "metadata": {
        "colab": {
          "base_uri": "https://localhost:8080/"
        },
        "id": "81fbrRRjYWsu",
        "outputId": "7b735a73-33b2-43d2-b35b-137a040dc56d"
      },
      "source": [
        "print(feature_columns)"
      ],
      "execution_count": null,
      "outputs": [
        {
          "output_type": "stream",
          "text": [
            "[VocabularyListCategoricalColumn(key='sex', vocabulary_list=('male', 'female'), dtype=tf.string, default_value=-1, num_oov_buckets=0), VocabularyListCategoricalColumn(key='n_siblings_spouses', vocabulary_list=(1, 0, 3, 4, 2, 5, 8), dtype=tf.int64, default_value=-1, num_oov_buckets=0), VocabularyListCategoricalColumn(key='parch', vocabulary_list=(0, 1, 2, 5, 3, 4), dtype=tf.int64, default_value=-1, num_oov_buckets=0), VocabularyListCategoricalColumn(key='class', vocabulary_list=('Third', 'First', 'Second'), dtype=tf.string, default_value=-1, num_oov_buckets=0), VocabularyListCategoricalColumn(key='deck', vocabulary_list=('unknown', 'C', 'G', 'A', 'B', 'D', 'F', 'E'), dtype=tf.string, default_value=-1, num_oov_buckets=0), VocabularyListCategoricalColumn(key='embark_town', vocabulary_list=('Southampton', 'Cherbourg', 'Queenstown', 'unknown'), dtype=tf.string, default_value=-1, num_oov_buckets=0), VocabularyListCategoricalColumn(key='alone', vocabulary_list=('n', 'y'), dtype=tf.string, default_value=-1, num_oov_buckets=0), NumericColumn(key='age', shape=(1,), default_value=None, dtype=tf.float32, normalizer_fn=None), NumericColumn(key='fare', shape=(1,), default_value=None, dtype=tf.float32, normalizer_fn=None)]\n"
          ],
          "name": "stdout"
        }
      ]
    },
    {
      "cell_type": "markdown",
      "metadata": {
        "id": "-dJO6DM8pdgF"
      },
      "source": [
        "THE TRAINING PROCESS"
      ]
    },
    {
      "cell_type": "markdown",
      "metadata": {
        "id": "wwmCZ_D4NzVM"
      },
      "source": [
        "When training the model, the input data is first broken down into batches of 32 and epochs. Epochs are how times the model is going to use the same data. You feed the data into the model again and again but in different orders, but careful not to do it too much or ele the model masters the data points and is able to give accurate results, but when you feed it new data, it will give very wrong errors. "
      ]
    },
    {
      "cell_type": "markdown",
      "metadata": {
        "id": "KAmnP_5GObS8"
      },
      "source": [
        "The inpt fuction below `make_input_fn` defines how the data is going to be broken down into batches and epochs to fit into the model. The input function encodes the data into a `tf.data.Dataset` object. The model can work with the object but not the data in its raw form."
      ]
    },
    {
      "cell_type": "code",
      "metadata": {
        "id": "t2KDkyjGpgu_"
      },
      "source": [
        "def make_input_fn(data_df, label_df, num_epochs=10, shuffle=True, batch_size=32):\n",
        "  def input_function():\n",
        "    ds = tf.data.Dataset.from_tensor_slices((dict(data_df), label_df)) #create a tf.data.Dataset object with the data and its label\n",
        "    if shuffle:\n",
        "      ds = ds.shuffle(1000) #shuffle the dataset\n",
        "    ds = ds.batch(batch_size).repeat(num_epochs) #this is going to take the data and split it into blocks of data. .repeat(num_epochs).. \n",
        "                                                #..defines how many blocks of data it should feed the model\n",
        "    return ds #return a batch of the dataset\n",
        "  return input_function\n",
        "\n",
        "train_input_fn = make_input_fn(dftrain, y_train)\n",
        "eval_input_fn = make_input_fn(dfeval, y_eval, num_epochs=1, shuffle=False) #here, we dont need to shuffle the data because we are not training it. We just need to test it."
      ],
      "execution_count": null,
      "outputs": []
    },
    {
      "cell_type": "markdown",
      "metadata": {
        "id": "wW4xHG7dS4nQ"
      },
      "source": [
        "After adding all the base features to the model, let's train the model. Training a model is just a single command using the `tf.estimator` API:"
      ]
    },
    {
      "cell_type": "code",
      "metadata": {
        "colab": {
          "base_uri": "https://localhost:8080/"
        },
        "id": "kBOsiT94S3-1",
        "outputId": "05a15026-3622-41fd-a124-8646e63ffc1c"
      },
      "source": [
        "linear_est = tf.estimator.LinearClassifier(feature_columns=feature_columns)\n",
        "\n",
        "linear_est.train(train_input_fn) #this will grab all the input that we need and train the function\n",
        "result = linear_est.evaluate(eval_input_fn) #after training we shall evaluate. test the data\n",
        "\n",
        "clear_output()\n",
        "print(result['accuracy'])"
      ],
      "execution_count": null,
      "outputs": [
        {
          "output_type": "stream",
          "text": [
            "0.7537879\n"
          ],
          "name": "stdout"
        }
      ]
    },
    {
      "cell_type": "markdown",
      "metadata": {
        "id": "utQ9V2ioU9Yt"
      },
      "source": [
        "USE THE MODEL TO MAKE PREDICTIONS\n",
        "\n",
        "To make a prediction, we have to use the eval input function "
      ]
    },
    {
      "cell_type": "code",
      "metadata": {
        "colab": {
          "base_uri": "https://localhost:8080/"
        },
        "id": "l2hY2nhHWMAC",
        "outputId": "c093cf18-9707-43a5-f9fe-a3986e7e2d2c"
      },
      "source": [
        "result = list(linear_est.predict(eval_input_fn))\n",
        "print(result) #returns a dictionary of all the predictions but what we ae interested in is probabilities\n",
        "\n",
        "#Let us look at just ONE prediction\n",
        "print(result[0])\n",
        "\n",
        "#We want 'probabilities'\n",
        "print(result[0]['probabilities'])"
      ],
      "execution_count": null,
      "outputs": [
        {
          "output_type": "stream",
          "text": [
            "INFO:tensorflow:Calling model_fn.\n"
          ],
          "name": "stdout"
        },
        {
          "output_type": "stream",
          "text": [
            "/usr/local/lib/python3.7/dist-packages/tensorflow/python/keras/engine/base_layer_v1.py:1700: UserWarning: `layer.add_variable` is deprecated and will be removed in a future version. Please use `layer.add_weight` method instead.\n",
            "  warnings.warn('`layer.add_variable` is deprecated and '\n"
          ],
          "name": "stderr"
        },
        {
          "output_type": "stream",
          "text": [
            "INFO:tensorflow:Done calling model_fn.\n",
            "INFO:tensorflow:Graph was finalized.\n",
            "INFO:tensorflow:Restoring parameters from /tmp/tmp89ys2hy9/model.ckpt-200\n",
            "INFO:tensorflow:Running local_init_op.\n",
            "INFO:tensorflow:Done running local_init_op.\n",
            "[{'logits': array([-2.1575084], dtype=float32), 'logistic': array([0.10363168], dtype=float32), 'probabilities': array([0.89636827, 0.10363167], dtype=float32), 'class_ids': array([0]), 'classes': array([b'0'], dtype=object), 'all_class_ids': array([0, 1], dtype=int32), 'all_classes': array([b'0', b'1'], dtype=object)}, {'logits': array([0.04180787], dtype=float32), 'logistic': array([0.5104504], dtype=float32), 'probabilities': array([0.48954958, 0.5104505 ], dtype=float32), 'class_ids': array([1]), 'classes': array([b'1'], dtype=object), 'all_class_ids': array([0, 1], dtype=int32), 'all_classes': array([b'0', b'1'], dtype=object)}, {'logits': array([1.5846708], dtype=float32), 'logistic': array([0.829865], dtype=float32), 'probabilities': array([0.17013499, 0.829865  ], dtype=float32), 'class_ids': array([1]), 'classes': array([b'1'], dtype=object), 'all_class_ids': array([0, 1], dtype=int32), 'all_classes': array([b'0', b'1'], dtype=object)}, {'logits': array([1.0900679], dtype=float32), 'logistic': array([0.7483945], dtype=float32), 'probabilities': array([0.2516055, 0.7483945], dtype=float32), 'class_ids': array([1]), 'classes': array([b'1'], dtype=object), 'all_class_ids': array([0, 1], dtype=int32), 'all_classes': array([b'0', b'1'], dtype=object)}, {'logits': array([-0.6177275], dtype=float32), 'logistic': array([0.3502985], dtype=float32), 'probabilities': array([0.64970154, 0.35029846], dtype=float32), 'class_ids': array([0]), 'classes': array([b'0'], dtype=object), 'all_class_ids': array([0, 1], dtype=int32), 'all_classes': array([b'0', b'1'], dtype=object)}, {'logits': array([1.2181389], dtype=float32), 'logistic': array([0.77173585], dtype=float32), 'probabilities': array([0.22826412, 0.77173585], dtype=float32), 'class_ids': array([1]), 'classes': array([b'1'], dtype=object), 'all_class_ids': array([0, 1], dtype=int32), 'all_classes': array([b'0', b'1'], dtype=object)}, {'logits': array([0.438444], dtype=float32), 'logistic': array([0.6078882], dtype=float32), 'probabilities': array([0.3921118, 0.6078882], dtype=float32), 'class_ids': array([1]), 'classes': array([b'1'], dtype=object), 'all_class_ids': array([0, 1], dtype=int32), 'all_classes': array([b'0', b'1'], dtype=object)}, {'logits': array([-1.8981087], dtype=float32), 'logistic': array([0.13032266], dtype=float32), 'probabilities': array([0.8696773 , 0.13032268], dtype=float32), 'class_ids': array([0]), 'classes': array([b'0'], dtype=object), 'all_class_ids': array([0, 1], dtype=int32), 'all_classes': array([b'0', b'1'], dtype=object)}, {'logits': array([0.6746094], dtype=float32), 'logistic': array([0.6625345], dtype=float32), 'probabilities': array([0.3374655 , 0.66253453], dtype=float32), 'class_ids': array([1]), 'classes': array([b'1'], dtype=object), 'all_class_ids': array([0, 1], dtype=int32), 'all_classes': array([b'0', b'1'], dtype=object)}, {'logits': array([1.1427155], dtype=float32), 'logistic': array([0.7581779], dtype=float32), 'probabilities': array([0.24182217, 0.7581779 ], dtype=float32), 'class_ids': array([1]), 'classes': array([b'1'], dtype=object), 'all_class_ids': array([0, 1], dtype=int32), 'all_classes': array([b'0', b'1'], dtype=object)}, {'logits': array([0.974831], dtype=float32), 'logistic': array([0.7260814], dtype=float32), 'probabilities': array([0.27391863, 0.7260814 ], dtype=float32), 'class_ids': array([1]), 'classes': array([b'1'], dtype=object), 'all_class_ids': array([0, 1], dtype=int32), 'all_classes': array([b'0', b'1'], dtype=object)}, {'logits': array([-1.9002908], dtype=float32), 'logistic': array([0.13007554], dtype=float32), 'probabilities': array([0.8699244 , 0.13007556], dtype=float32), 'class_ids': array([0]), 'classes': array([b'0'], dtype=object), 'all_class_ids': array([0, 1], dtype=int32), 'all_classes': array([b'0', b'1'], dtype=object)}, {'logits': array([1.911235], dtype=float32), 'logistic': array([0.8711578], dtype=float32), 'probabilities': array([0.12884218, 0.8711578 ], dtype=float32), 'class_ids': array([1]), 'classes': array([b'1'], dtype=object), 'all_class_ids': array([0, 1], dtype=int32), 'all_classes': array([b'0', b'1'], dtype=object)}, {'logits': array([-0.07811775], dtype=float32), 'logistic': array([0.4804805], dtype=float32), 'probabilities': array([0.5195195, 0.4804805], dtype=float32), 'class_ids': array([0]), 'classes': array([b'0'], dtype=object), 'all_class_ids': array([0, 1], dtype=int32), 'all_classes': array([b'0', b'1'], dtype=object)}, {'logits': array([1.9341179], dtype=float32), 'logistic': array([0.87370455], dtype=float32), 'probabilities': array([0.12629549, 0.8737045 ], dtype=float32), 'class_ids': array([1]), 'classes': array([b'1'], dtype=object), 'all_class_ids': array([0, 1], dtype=int32), 'all_classes': array([b'0', b'1'], dtype=object)}, {'logits': array([0.42010257], dtype=float32), 'logistic': array([0.60350776], dtype=float32), 'probabilities': array([0.39649224, 0.6035078 ], dtype=float32), 'class_ids': array([1]), 'classes': array([b'1'], dtype=object), 'all_class_ids': array([0, 1], dtype=int32), 'all_classes': array([b'0', b'1'], dtype=object)}, {'logits': array([-1.2689584], dtype=float32), 'logistic': array([0.21943563], dtype=float32), 'probabilities': array([0.7805644, 0.2194356], dtype=float32), 'class_ids': array([0]), 'classes': array([b'0'], dtype=object), 'all_class_ids': array([0, 1], dtype=int32), 'all_classes': array([b'0', b'1'], dtype=object)}, {'logits': array([1.7461456], dtype=float32), 'logistic': array([0.851466], dtype=float32), 'probabilities': array([0.14853401, 0.851466  ], dtype=float32), 'class_ids': array([1]), 'classes': array([b'1'], dtype=object), 'all_class_ids': array([0, 1], dtype=int32), 'all_classes': array([b'0', b'1'], dtype=object)}, {'logits': array([-0.21782151], dtype=float32), 'logistic': array([0.4457589], dtype=float32), 'probabilities': array([0.55424106, 0.4457589 ], dtype=float32), 'class_ids': array([0]), 'classes': array([b'0'], dtype=object), 'all_class_ids': array([0, 1], dtype=int32), 'all_classes': array([b'0', b'1'], dtype=object)}, {'logits': array([-2.0463371], dtype=float32), 'logistic': array([0.11442301], dtype=float32), 'probabilities': array([0.8855769 , 0.11442301], dtype=float32), 'class_ids': array([0]), 'classes': array([b'0'], dtype=object), 'all_class_ids': array([0, 1], dtype=int32), 'all_classes': array([b'0', b'1'], dtype=object)}, {'logits': array([-1.8812892], dtype=float32), 'logistic': array([0.13224086], dtype=float32), 'probabilities': array([0.86775917, 0.13224086], dtype=float32), 'class_ids': array([0]), 'classes': array([b'0'], dtype=object), 'all_class_ids': array([0, 1], dtype=int32), 'all_classes': array([b'0', b'1'], dtype=object)}, {'logits': array([-2.0892465], dtype=float32), 'logistic': array([0.1101464], dtype=float32), 'probabilities': array([0.8898536 , 0.11014641], dtype=float32), 'class_ids': array([0]), 'classes': array([b'0'], dtype=object), 'all_class_ids': array([0, 1], dtype=int32), 'all_classes': array([b'0', b'1'], dtype=object)}, {'logits': array([0.8583822], dtype=float32), 'logistic': array([0.70232254], dtype=float32), 'probabilities': array([0.29767746, 0.70232254], dtype=float32), 'class_ids': array([1]), 'classes': array([b'1'], dtype=object), 'all_class_ids': array([0, 1], dtype=int32), 'all_classes': array([b'0', b'1'], dtype=object)}, {'logits': array([-2.21444], dtype=float32), 'logistic': array([0.09846121], dtype=float32), 'probabilities': array([0.9015387 , 0.09846123], dtype=float32), 'class_ids': array([0]), 'classes': array([b'0'], dtype=object), 'all_class_ids': array([0, 1], dtype=int32), 'all_classes': array([b'0', b'1'], dtype=object)}, {'logits': array([0.99421144], dtype=float32), 'logistic': array([0.72991896], dtype=float32), 'probabilities': array([0.27008104, 0.72991896], dtype=float32), 'class_ids': array([1]), 'classes': array([b'1'], dtype=object), 'all_class_ids': array([0, 1], dtype=int32), 'all_classes': array([b'0', b'1'], dtype=object)}, {'logits': array([0.38749263], dtype=float32), 'logistic': array([0.5956789], dtype=float32), 'probabilities': array([0.40432104, 0.595679  ], dtype=float32), 'class_ids': array([1]), 'classes': array([b'1'], dtype=object), 'all_class_ids': array([0, 1], dtype=int32), 'all_classes': array([b'0', b'1'], dtype=object)}, {'logits': array([-0.8677553], dtype=float32), 'logistic': array([0.29572162], dtype=float32), 'probabilities': array([0.7042784, 0.2957216], dtype=float32), 'class_ids': array([0]), 'classes': array([b'0'], dtype=object), 'all_class_ids': array([0, 1], dtype=int32), 'all_classes': array([b'0', b'1'], dtype=object)}, {'logits': array([0.04495404], dtype=float32), 'logistic': array([0.5112366], dtype=float32), 'probabilities': array([0.48876342, 0.51123667], dtype=float32), 'class_ids': array([1]), 'classes': array([b'1'], dtype=object), 'all_class_ids': array([0, 1], dtype=int32), 'all_classes': array([b'0', b'1'], dtype=object)}, {'logits': array([-1.0375991], dtype=float32), 'logistic': array([0.26161352], dtype=float32), 'probabilities': array([0.7383865 , 0.26161352], dtype=float32), 'class_ids': array([0]), 'classes': array([b'0'], dtype=object), 'all_class_ids': array([0, 1], dtype=int32), 'all_classes': array([b'0', b'1'], dtype=object)}, {'logits': array([2.0807183], dtype=float32), 'logistic': array([0.88901496], dtype=float32), 'probabilities': array([0.11098509, 0.88901496], dtype=float32), 'class_ids': array([1]), 'classes': array([b'1'], dtype=object), 'all_class_ids': array([0, 1], dtype=int32), 'all_classes': array([b'0', b'1'], dtype=object)}, {'logits': array([-1.5542191], dtype=float32), 'logistic': array([0.17447776], dtype=float32), 'probabilities': array([0.82552224, 0.17447773], dtype=float32), 'class_ids': array([0]), 'classes': array([b'0'], dtype=object), 'all_class_ids': array([0, 1], dtype=int32), 'all_classes': array([b'0', b'1'], dtype=object)}, {'logits': array([1.7574106], dtype=float32), 'logistic': array([0.852885], dtype=float32), 'probabilities': array([0.14711493, 0.85288507], dtype=float32), 'class_ids': array([1]), 'classes': array([b'1'], dtype=object), 'all_class_ids': array([0, 1], dtype=int32), 'all_classes': array([b'0', b'1'], dtype=object)}, {'logits': array([-1.1402439], dtype=float32), 'logistic': array([0.2422756], dtype=float32), 'probabilities': array([0.7577244, 0.2422756], dtype=float32), 'class_ids': array([0]), 'classes': array([b'0'], dtype=object), 'all_class_ids': array([0, 1], dtype=int32), 'all_classes': array([b'0', b'1'], dtype=object)}, {'logits': array([0.9726863], dtype=float32), 'logistic': array([0.7256546], dtype=float32), 'probabilities': array([0.27434537, 0.7256546 ], dtype=float32), 'class_ids': array([1]), 'classes': array([b'1'], dtype=object), 'all_class_ids': array([0, 1], dtype=int32), 'all_classes': array([b'0', b'1'], dtype=object)}, {'logits': array([-0.5760094], dtype=float32), 'logistic': array([0.35985136], dtype=float32), 'probabilities': array([0.64014864, 0.35985136], dtype=float32), 'class_ids': array([0]), 'classes': array([b'0'], dtype=object), 'all_class_ids': array([0, 1], dtype=int32), 'all_classes': array([b'0', b'1'], dtype=object)}, {'logits': array([-2.011499], dtype=float32), 'logistic': array([0.11800089], dtype=float32), 'probabilities': array([0.88199914, 0.11800089], dtype=float32), 'class_ids': array([0]), 'classes': array([b'0'], dtype=object), 'all_class_ids': array([0, 1], dtype=int32), 'all_classes': array([b'0', b'1'], dtype=object)}, {'logits': array([-1.2326415], dtype=float32), 'logistic': array([0.22571942], dtype=float32), 'probabilities': array([0.77428055, 0.22571944], dtype=float32), 'class_ids': array([0]), 'classes': array([b'0'], dtype=object), 'all_class_ids': array([0, 1], dtype=int32), 'all_classes': array([b'0', b'1'], dtype=object)}, {'logits': array([-1.4552289], dtype=float32), 'logistic': array([0.18919814], dtype=float32), 'probabilities': array([0.81080186, 0.18919814], dtype=float32), 'class_ids': array([0]), 'classes': array([b'0'], dtype=object), 'all_class_ids': array([0, 1], dtype=int32), 'all_classes': array([b'0', b'1'], dtype=object)}, {'logits': array([2.6995895], dtype=float32), 'logistic': array([0.9370024], dtype=float32), 'probabilities': array([0.06299759, 0.9370024 ], dtype=float32), 'class_ids': array([1]), 'classes': array([b'1'], dtype=object), 'all_class_ids': array([0, 1], dtype=int32), 'all_classes': array([b'0', b'1'], dtype=object)}, {'logits': array([-2.0648658], dtype=float32), 'logistic': array([0.11255884], dtype=float32), 'probabilities': array([0.8874411 , 0.11255886], dtype=float32), 'class_ids': array([0]), 'classes': array([b'0'], dtype=object), 'all_class_ids': array([0, 1], dtype=int32), 'all_classes': array([b'0', b'1'], dtype=object)}, {'logits': array([1.3658139], dtype=float32), 'logistic': array([0.796703], dtype=float32), 'probabilities': array([0.203297 , 0.7967029], dtype=float32), 'class_ids': array([1]), 'classes': array([b'1'], dtype=object), 'all_class_ids': array([0, 1], dtype=int32), 'all_classes': array([b'0', b'1'], dtype=object)}, {'logits': array([-1.9699827], dtype=float32), 'logistic': array([0.12239072], dtype=float32), 'probabilities': array([0.87760925, 0.12239075], dtype=float32), 'class_ids': array([0]), 'classes': array([b'0'], dtype=object), 'all_class_ids': array([0, 1], dtype=int32), 'all_classes': array([b'0', b'1'], dtype=object)}, {'logits': array([0.3705432], dtype=float32), 'logistic': array([0.5915902], dtype=float32), 'probabilities': array([0.40840977, 0.5915903 ], dtype=float32), 'class_ids': array([1]), 'classes': array([b'1'], dtype=object), 'all_class_ids': array([0, 1], dtype=int32), 'all_classes': array([b'0', b'1'], dtype=object)}, {'logits': array([-0.66137016], dtype=float32), 'logistic': array([0.34043193], dtype=float32), 'probabilities': array([0.6595681, 0.3404319], dtype=float32), 'class_ids': array([0]), 'classes': array([b'0'], dtype=object), 'all_class_ids': array([0, 1], dtype=int32), 'all_classes': array([b'0', b'1'], dtype=object)}, {'logits': array([-0.6369031], dtype=float32), 'logistic': array([0.34594694], dtype=float32), 'probabilities': array([0.6540531 , 0.34594694], dtype=float32), 'class_ids': array([0]), 'classes': array([b'0'], dtype=object), 'all_class_ids': array([0, 1], dtype=int32), 'all_classes': array([b'0', b'1'], dtype=object)}, {'logits': array([1.505119], dtype=float32), 'logistic': array([0.8183367], dtype=float32), 'probabilities': array([0.18166329, 0.8183367 ], dtype=float32), 'class_ids': array([1]), 'classes': array([b'1'], dtype=object), 'all_class_ids': array([0, 1], dtype=int32), 'all_classes': array([b'0', b'1'], dtype=object)}, {'logits': array([-1.8991998], dtype=float32), 'logistic': array([0.13019902], dtype=float32), 'probabilities': array([0.8698009 , 0.13019906], dtype=float32), 'class_ids': array([0]), 'classes': array([b'0'], dtype=object), 'all_class_ids': array([0, 1], dtype=int32), 'all_classes': array([b'0', b'1'], dtype=object)}, {'logits': array([-0.14681402], dtype=float32), 'logistic': array([0.46336228], dtype=float32), 'probabilities': array([0.5366377, 0.4633623], dtype=float32), 'class_ids': array([0]), 'classes': array([b'0'], dtype=object), 'all_class_ids': array([0, 1], dtype=int32), 'all_classes': array([b'0', b'1'], dtype=object)}, {'logits': array([-0.24055627], dtype=float32), 'logistic': array([0.44014928], dtype=float32), 'probabilities': array([0.5598507 , 0.44014928], dtype=float32), 'class_ids': array([0]), 'classes': array([b'0'], dtype=object), 'all_class_ids': array([0, 1], dtype=int32), 'all_classes': array([b'0', b'1'], dtype=object)}, {'logits': array([-0.02709677], dtype=float32), 'logistic': array([0.49322623], dtype=float32), 'probabilities': array([0.50677377, 0.49322623], dtype=float32), 'class_ids': array([0]), 'classes': array([b'0'], dtype=object), 'all_class_ids': array([0, 1], dtype=int32), 'all_classes': array([b'0', b'1'], dtype=object)}, {'logits': array([-1.6940861], dtype=float32), 'logistic': array([0.15523922], dtype=float32), 'probabilities': array([0.8447608 , 0.15523924], dtype=float32), 'class_ids': array([0]), 'classes': array([b'0'], dtype=object), 'all_class_ids': array([0, 1], dtype=int32), 'all_classes': array([b'0', b'1'], dtype=object)}, {'logits': array([-1.0290726], dtype=float32), 'logistic': array([0.26326394], dtype=float32), 'probabilities': array([0.73673606, 0.26326394], dtype=float32), 'class_ids': array([0]), 'classes': array([b'0'], dtype=object), 'all_class_ids': array([0, 1], dtype=int32), 'all_classes': array([b'0', b'1'], dtype=object)}, {'logits': array([-2.2336395], dtype=float32), 'logistic': array([0.09677005], dtype=float32), 'probabilities': array([0.90322995, 0.09677006], dtype=float32), 'class_ids': array([0]), 'classes': array([b'0'], dtype=object), 'all_class_ids': array([0, 1], dtype=int32), 'all_classes': array([b'0', b'1'], dtype=object)}, {'logits': array([-1.791681], dtype=float32), 'logistic': array([0.14286673], dtype=float32), 'probabilities': array([0.85713327, 0.14286675], dtype=float32), 'class_ids': array([0]), 'classes': array([b'0'], dtype=object), 'all_class_ids': array([0, 1], dtype=int32), 'all_classes': array([b'0', b'1'], dtype=object)}, {'logits': array([-1.8425231], dtype=float32), 'logistic': array([0.13675314], dtype=float32), 'probabilities': array([0.86324686, 0.13675317], dtype=float32), 'class_ids': array([0]), 'classes': array([b'0'], dtype=object), 'all_class_ids': array([0, 1], dtype=int32), 'all_classes': array([b'0', b'1'], dtype=object)}, {'logits': array([-1.962423], dtype=float32), 'logistic': array([0.1232051], dtype=float32), 'probabilities': array([0.876795  , 0.12320507], dtype=float32), 'class_ids': array([0]), 'classes': array([b'0'], dtype=object), 'all_class_ids': array([0, 1], dtype=int32), 'all_classes': array([b'0', b'1'], dtype=object)}, {'logits': array([-1.2328866], dtype=float32), 'logistic': array([0.2256766], dtype=float32), 'probabilities': array([0.7743234 , 0.22567663], dtype=float32), 'class_ids': array([0]), 'classes': array([b'0'], dtype=object), 'all_class_ids': array([0, 1], dtype=int32), 'all_classes': array([b'0', b'1'], dtype=object)}, {'logits': array([3.7209733], dtype=float32), 'logistic': array([0.9763619], dtype=float32), 'probabilities': array([0.0236381, 0.9763618], dtype=float32), 'class_ids': array([1]), 'classes': array([b'1'], dtype=object), 'all_class_ids': array([0, 1], dtype=int32), 'all_classes': array([b'0', b'1'], dtype=object)}, {'logits': array([-1.1773009], dtype=float32), 'logistic': array([0.23553786], dtype=float32), 'probabilities': array([0.7644621 , 0.23553783], dtype=float32), 'class_ids': array([0]), 'classes': array([b'0'], dtype=object), 'all_class_ids': array([0, 1], dtype=int32), 'all_classes': array([b'0', b'1'], dtype=object)}, {'logits': array([-2.0291545], dtype=float32), 'logistic': array([0.11617565], dtype=float32), 'probabilities': array([0.8838243 , 0.11617571], dtype=float32), 'class_ids': array([0]), 'classes': array([b'0'], dtype=object), 'all_class_ids': array([0, 1], dtype=int32), 'all_classes': array([b'0', b'1'], dtype=object)}, {'logits': array([-0.15260318], dtype=float32), 'logistic': array([0.46192306], dtype=float32), 'probabilities': array([0.53807694, 0.4619231 ], dtype=float32), 'class_ids': array([0]), 'classes': array([b'0'], dtype=object), 'all_class_ids': array([0, 1], dtype=int32), 'all_classes': array([b'0', b'1'], dtype=object)}, {'logits': array([0.33288893], dtype=float32), 'logistic': array([0.58246213], dtype=float32), 'probabilities': array([0.41753787, 0.58246213], dtype=float32), 'class_ids': array([1]), 'classes': array([b'1'], dtype=object), 'all_class_ids': array([0, 1], dtype=int32), 'all_classes': array([b'0', b'1'], dtype=object)}, {'logits': array([-1.1435364], dtype=float32), 'logistic': array([0.24167165], dtype=float32), 'probabilities': array([0.7583283 , 0.24167165], dtype=float32), 'class_ids': array([0]), 'classes': array([b'0'], dtype=object), 'all_class_ids': array([0, 1], dtype=int32), 'all_classes': array([b'0', b'1'], dtype=object)}, {'logits': array([1.6472716], dtype=float32), 'logistic': array([0.83852196], dtype=float32), 'probabilities': array([0.16147803, 0.83852196], dtype=float32), 'class_ids': array([1]), 'classes': array([b'1'], dtype=object), 'all_class_ids': array([0, 1], dtype=int32), 'all_classes': array([b'0', b'1'], dtype=object)}, {'logits': array([-1.2361792], dtype=float32), 'logistic': array([0.22510177], dtype=float32), 'probabilities': array([0.77489823, 0.22510174], dtype=float32), 'class_ids': array([0]), 'classes': array([b'0'], dtype=object), 'all_class_ids': array([0, 1], dtype=int32), 'all_classes': array([b'0', b'1'], dtype=object)}, {'logits': array([0.78535914], dtype=float32), 'logistic': array([0.686834], dtype=float32), 'probabilities': array([0.31316602, 0.686834  ], dtype=float32), 'class_ids': array([1]), 'classes': array([b'1'], dtype=object), 'all_class_ids': array([0, 1], dtype=int32), 'all_classes': array([b'0', b'1'], dtype=object)}, {'logits': array([0.33934042], dtype=float32), 'logistic': array([0.5840303], dtype=float32), 'probabilities': array([0.41596967, 0.5840303 ], dtype=float32), 'class_ids': array([1]), 'classes': array([b'1'], dtype=object), 'all_class_ids': array([0, 1], dtype=int32), 'all_classes': array([b'0', b'1'], dtype=object)}, {'logits': array([-1.4657851], dtype=float32), 'logistic': array([0.18758407], dtype=float32), 'probabilities': array([0.81241596, 0.18758412], dtype=float32), 'class_ids': array([0]), 'classes': array([b'0'], dtype=object), 'all_class_ids': array([0, 1], dtype=int32), 'all_classes': array([b'0', b'1'], dtype=object)}, {'logits': array([-1.2494258], dtype=float32), 'logistic': array([0.22279957], dtype=float32), 'probabilities': array([0.77720046, 0.22279957], dtype=float32), 'class_ids': array([0]), 'classes': array([b'0'], dtype=object), 'all_class_ids': array([0, 1], dtype=int32), 'all_classes': array([b'0', b'1'], dtype=object)}, {'logits': array([0.9409274], dtype=float32), 'logistic': array([0.7192869], dtype=float32), 'probabilities': array([0.28071305, 0.719287  ], dtype=float32), 'class_ids': array([1]), 'classes': array([b'1'], dtype=object), 'all_class_ids': array([0, 1], dtype=int32), 'all_classes': array([b'0', b'1'], dtype=object)}, {'logits': array([3.1600726], dtype=float32), 'logistic': array([0.95930374], dtype=float32), 'probabilities': array([0.04069622, 0.9593038 ], dtype=float32), 'class_ids': array([1]), 'classes': array([b'1'], dtype=object), 'all_class_ids': array([0, 1], dtype=int32), 'all_classes': array([b'0', b'1'], dtype=object)}, {'logits': array([0.56716955], dtype=float32), 'logistic': array([0.6381098], dtype=float32), 'probabilities': array([0.3618902, 0.6381098], dtype=float32), 'class_ids': array([1]), 'classes': array([b'1'], dtype=object), 'all_class_ids': array([0, 1], dtype=int32), 'all_classes': array([b'0', b'1'], dtype=object)}, {'logits': array([-2.4707074], dtype=float32), 'logistic': array([0.07793739], dtype=float32), 'probabilities': array([0.92206264, 0.07793738], dtype=float32), 'class_ids': array([0]), 'classes': array([b'0'], dtype=object), 'all_class_ids': array([0, 1], dtype=int32), 'all_classes': array([b'0', b'1'], dtype=object)}, {'logits': array([-1.8610517], dtype=float32), 'logistic': array([0.13458052], dtype=float32), 'probabilities': array([0.8654195 , 0.13458052], dtype=float32), 'class_ids': array([0]), 'classes': array([b'0'], dtype=object), 'all_class_ids': array([0, 1], dtype=int32), 'all_classes': array([b'0', b'1'], dtype=object)}, {'logits': array([-1.547527], dtype=float32), 'logistic': array([0.17544374], dtype=float32), 'probabilities': array([0.82455623, 0.17544372], dtype=float32), 'class_ids': array([0]), 'classes': array([b'0'], dtype=object), 'all_class_ids': array([0, 1], dtype=int32), 'all_classes': array([b'0', b'1'], dtype=object)}, {'logits': array([-2.0522096], dtype=float32), 'logistic': array([0.11382931], dtype=float32), 'probabilities': array([0.8861707, 0.1138293], dtype=float32), 'class_ids': array([0]), 'classes': array([b'0'], dtype=object), 'all_class_ids': array([0, 1], dtype=int32), 'all_classes': array([b'0', b'1'], dtype=object)}, {'logits': array([-1.9179832], dtype=float32), 'logistic': array([0.12808669], dtype=float32), 'probabilities': array([0.8719134 , 0.12808664], dtype=float32), 'class_ids': array([0]), 'classes': array([b'0'], dtype=object), 'all_class_ids': array([0, 1], dtype=int32), 'all_classes': array([b'0', b'1'], dtype=object)}, {'logits': array([-1.4552289], dtype=float32), 'logistic': array([0.18919814], dtype=float32), 'probabilities': array([0.81080186, 0.18919814], dtype=float32), 'class_ids': array([0]), 'classes': array([b'0'], dtype=object), 'all_class_ids': array([0, 1], dtype=int32), 'all_classes': array([b'0', b'1'], dtype=object)}, {'logits': array([1.0860022], dtype=float32), 'logistic': array([0.7476282], dtype=float32), 'probabilities': array([0.25237182, 0.74762815], dtype=float32), 'class_ids': array([1]), 'classes': array([b'1'], dtype=object), 'all_class_ids': array([0, 1], dtype=int32), 'all_classes': array([b'0', b'1'], dtype=object)}, {'logits': array([4.0697503], dtype=float32), 'logistic': array([0.9832052], dtype=float32), 'probabilities': array([0.01679477, 0.98320526], dtype=float32), 'class_ids': array([1]), 'classes': array([b'1'], dtype=object), 'all_class_ids': array([0, 1], dtype=int32), 'all_classes': array([b'0', b'1'], dtype=object)}, {'logits': array([0.8132708], dtype=float32), 'logistic': array([0.692806], dtype=float32), 'probabilities': array([0.30719393, 0.69280607], dtype=float32), 'class_ids': array([1]), 'classes': array([b'1'], dtype=object), 'all_class_ids': array([0, 1], dtype=int32), 'all_classes': array([b'0', b'1'], dtype=object)}, {'logits': array([-0.07811775], dtype=float32), 'logistic': array([0.4804805], dtype=float32), 'probabilities': array([0.5195195, 0.4804805], dtype=float32), 'class_ids': array([0]), 'classes': array([b'0'], dtype=object), 'all_class_ids': array([0, 1], dtype=int32), 'all_classes': array([b'0', b'1'], dtype=object)}, {'logits': array([-1.3840165], dtype=float32), 'logistic': array([0.20036471], dtype=float32), 'probabilities': array([0.79963535, 0.20036472], dtype=float32), 'class_ids': array([0]), 'classes': array([b'0'], dtype=object), 'all_class_ids': array([0, 1], dtype=int32), 'all_classes': array([b'0', b'1'], dtype=object)}, {'logits': array([3.5055087], dtype=float32), 'logistic': array([0.97084403], dtype=float32), 'probabilities': array([0.0291559 , 0.97084415], dtype=float32), 'class_ids': array([1]), 'classes': array([b'1'], dtype=object), 'all_class_ids': array([0, 1], dtype=int32), 'all_classes': array([b'0', b'1'], dtype=object)}, {'logits': array([-1.9795581], dtype=float32), 'logistic': array([0.12136593], dtype=float32), 'probabilities': array([0.87863404, 0.12136595], dtype=float32), 'class_ids': array([0]), 'classes': array([b'0'], dtype=object), 'all_class_ids': array([0, 1], dtype=int32), 'all_classes': array([b'0', b'1'], dtype=object)}, {'logits': array([0.76553726], dtype=float32), 'logistic': array([0.6825547], dtype=float32), 'probabilities': array([0.31744528, 0.6825547 ], dtype=float32), 'class_ids': array([1]), 'classes': array([b'1'], dtype=object), 'all_class_ids': array([0, 1], dtype=int32), 'all_classes': array([b'0', b'1'], dtype=object)}, {'logits': array([0.76752186], dtype=float32), 'logistic': array([0.6829846], dtype=float32), 'probabilities': array([0.31701544, 0.6829846 ], dtype=float32), 'class_ids': array([1]), 'classes': array([b'1'], dtype=object), 'all_class_ids': array([0, 1], dtype=int32), 'all_classes': array([b'0', b'1'], dtype=object)}, {'logits': array([-1.668843], dtype=float32), 'logistic': array([0.15857846], dtype=float32), 'probabilities': array([0.8414215 , 0.15857849], dtype=float32), 'class_ids': array([0]), 'classes': array([b'0'], dtype=object), 'all_class_ids': array([0, 1], dtype=int32), 'all_classes': array([b'0', b'1'], dtype=object)}, {'logits': array([1.7666978], dtype=float32), 'logistic': array([0.8540465], dtype=float32), 'probabilities': array([0.14595348, 0.8540465 ], dtype=float32), 'class_ids': array([1]), 'classes': array([b'1'], dtype=object), 'all_class_ids': array([0, 1], dtype=int32), 'all_classes': array([b'0', b'1'], dtype=object)}, {'logits': array([2.1051977], dtype=float32), 'logistic': array([0.8914074], dtype=float32), 'probabilities': array([0.10859266, 0.8914073 ], dtype=float32), 'class_ids': array([1]), 'classes': array([b'1'], dtype=object), 'all_class_ids': array([0, 1], dtype=int32), 'all_classes': array([b'0', b'1'], dtype=object)}, {'logits': array([3.788584], dtype=float32), 'logistic': array([0.977873], dtype=float32), 'probabilities': array([0.02212694, 0.9778731 ], dtype=float32), 'class_ids': array([1]), 'classes': array([b'1'], dtype=object), 'all_class_ids': array([0, 1], dtype=int32), 'all_classes': array([b'0', b'1'], dtype=object)}, {'logits': array([-0.9266844], dtype=float32), 'logistic': array([0.2835979], dtype=float32), 'probabilities': array([0.7164022, 0.2835979], dtype=float32), 'class_ids': array([0]), 'classes': array([b'0'], dtype=object), 'all_class_ids': array([0, 1], dtype=int32), 'all_classes': array([b'0', b'1'], dtype=object)}, {'logits': array([-2.048316], dtype=float32), 'logistic': array([0.11422262], dtype=float32), 'probabilities': array([0.88577735, 0.11422265], dtype=float32), 'class_ids': array([0]), 'classes': array([b'0'], dtype=object), 'all_class_ids': array([0, 1], dtype=int32), 'all_classes': array([b'0', b'1'], dtype=object)}, {'logits': array([4.331538], dtype=float32), 'logistic': array([0.9870233], dtype=float32), 'probabilities': array([0.0129767 , 0.98702323], dtype=float32), 'class_ids': array([1]), 'classes': array([b'1'], dtype=object), 'all_class_ids': array([0, 1], dtype=int32), 'all_classes': array([b'0', b'1'], dtype=object)}, {'logits': array([0.05545936], dtype=float32), 'logistic': array([0.5138613], dtype=float32), 'probabilities': array([0.48613873, 0.5138613 ], dtype=float32), 'class_ids': array([1]), 'classes': array([b'1'], dtype=object), 'all_class_ids': array([0, 1], dtype=int32), 'all_classes': array([b'0', b'1'], dtype=object)}, {'logits': array([3.0469177], dtype=float32), 'logistic': array([0.9546493], dtype=float32), 'probabilities': array([0.04535073, 0.95464927], dtype=float32), 'class_ids': array([1]), 'classes': array([b'1'], dtype=object), 'all_class_ids': array([0, 1], dtype=int32), 'all_classes': array([b'0', b'1'], dtype=object)}, {'logits': array([-1.2503144], dtype=float32), 'logistic': array([0.22264573], dtype=float32), 'probabilities': array([0.7773543 , 0.22264573], dtype=float32), 'class_ids': array([0]), 'classes': array([b'0'], dtype=object), 'all_class_ids': array([0, 1], dtype=int32), 'all_classes': array([b'0', b'1'], dtype=object)}, {'logits': array([-2.281862], dtype=float32), 'logistic': array([0.09263632], dtype=float32), 'probabilities': array([0.90736365, 0.09263632], dtype=float32), 'class_ids': array([0]), 'classes': array([b'0'], dtype=object), 'all_class_ids': array([0, 1], dtype=int32), 'all_classes': array([b'0', b'1'], dtype=object)}, {'logits': array([-1.9249097], dtype=float32), 'logistic': array([0.12731504], dtype=float32), 'probabilities': array([0.87268496, 0.12731507], dtype=float32), 'class_ids': array([0]), 'classes': array([b'0'], dtype=object), 'all_class_ids': array([0, 1], dtype=int32), 'all_classes': array([b'0', b'1'], dtype=object)}, {'logits': array([-0.5456999], dtype=float32), 'logistic': array([0.36686265], dtype=float32), 'probabilities': array([0.63313735, 0.36686265], dtype=float32), 'class_ids': array([0]), 'classes': array([b'0'], dtype=object), 'all_class_ids': array([0, 1], dtype=int32), 'all_classes': array([b'0', b'1'], dtype=object)}, {'logits': array([-2.0718486], dtype=float32), 'logistic': array([0.11186323], dtype=float32), 'probabilities': array([0.88813674, 0.11186324], dtype=float32), 'class_ids': array([0]), 'classes': array([b'0'], dtype=object), 'all_class_ids': array([0, 1], dtype=int32), 'all_classes': array([b'0', b'1'], dtype=object)}, {'logits': array([1.2762705], dtype=float32), 'logistic': array([0.7818143], dtype=float32), 'probabilities': array([0.21818574, 0.7818142 ], dtype=float32), 'class_ids': array([1]), 'classes': array([b'1'], dtype=object), 'all_class_ids': array([0, 1], dtype=int32), 'all_classes': array([b'0', b'1'], dtype=object)}, {'logits': array([0.97496474], dtype=float32), 'logistic': array([0.72610795], dtype=float32), 'probabilities': array([0.27389205, 0.726108  ], dtype=float32), 'class_ids': array([1]), 'classes': array([b'1'], dtype=object), 'all_class_ids': array([0, 1], dtype=int32), 'all_classes': array([b'0', b'1'], dtype=object)}, {'logits': array([0.5310868], dtype=float32), 'logistic': array([0.62973654], dtype=float32), 'probabilities': array([0.37026343, 0.62973654], dtype=float32), 'class_ids': array([1]), 'classes': array([b'1'], dtype=object), 'all_class_ids': array([0, 1], dtype=int32), 'all_classes': array([b'0', b'1'], dtype=object)}, {'logits': array([0.83636236], dtype=float32), 'logistic': array([0.69769853], dtype=float32), 'probabilities': array([0.30230147, 0.69769853], dtype=float32), 'class_ids': array([1]), 'classes': array([b'1'], dtype=object), 'all_class_ids': array([0, 1], dtype=int32), 'all_classes': array([b'0', b'1'], dtype=object)}, {'logits': array([-1.3472434], dtype=float32), 'logistic': array([0.20632139], dtype=float32), 'probabilities': array([0.7936786 , 0.20632139], dtype=float32), 'class_ids': array([0]), 'classes': array([b'0'], dtype=object), 'all_class_ids': array([0, 1], dtype=int32), 'all_classes': array([b'0', b'1'], dtype=object)}, {'logits': array([1.4640548], dtype=float32), 'logistic': array([0.812152], dtype=float32), 'probabilities': array([0.18784793, 0.812152  ], dtype=float32), 'class_ids': array([1]), 'classes': array([b'1'], dtype=object), 'all_class_ids': array([0, 1], dtype=int32), 'all_classes': array([b'0', b'1'], dtype=object)}, {'logits': array([2.2948234], dtype=float32), 'logistic': array([0.9084474], dtype=float32), 'probabilities': array([0.0915526 , 0.90844744], dtype=float32), 'class_ids': array([1]), 'classes': array([b'1'], dtype=object), 'all_class_ids': array([0, 1], dtype=int32), 'all_classes': array([b'0', b'1'], dtype=object)}, {'logits': array([1.4159245], dtype=float32), 'logistic': array([0.8046987], dtype=float32), 'probabilities': array([0.19530128, 0.8046987 ], dtype=float32), 'class_ids': array([1]), 'classes': array([b'1'], dtype=object), 'all_class_ids': array([0, 1], dtype=int32), 'all_classes': array([b'0', b'1'], dtype=object)}, {'logits': array([-2.3585978], dtype=float32), 'logistic': array([0.08638477], dtype=float32), 'probabilities': array([0.91361517, 0.0863848 ], dtype=float32), 'class_ids': array([0]), 'classes': array([b'0'], dtype=object), 'all_class_ids': array([0, 1], dtype=int32), 'all_classes': array([b'0', b'1'], dtype=object)}, {'logits': array([1.5610979], dtype=float32), 'logistic': array([0.8265108], dtype=float32), 'probabilities': array([0.17348918, 0.82651085], dtype=float32), 'class_ids': array([1]), 'classes': array([b'1'], dtype=object), 'all_class_ids': array([0, 1], dtype=int32), 'all_classes': array([b'0', b'1'], dtype=object)}, {'logits': array([0.97568285], dtype=float32), 'logistic': array([0.72625077], dtype=float32), 'probabilities': array([0.27374926, 0.72625077], dtype=float32), 'class_ids': array([1]), 'classes': array([b'1'], dtype=object), 'all_class_ids': array([0, 1], dtype=int32), 'all_classes': array([b'0', b'1'], dtype=object)}, {'logits': array([0.8857484], dtype=float32), 'logistic': array([0.708012], dtype=float32), 'probabilities': array([0.291988, 0.708012], dtype=float32), 'class_ids': array([1]), 'classes': array([b'1'], dtype=object), 'all_class_ids': array([0, 1], dtype=int32), 'all_classes': array([b'0', b'1'], dtype=object)}, {'logits': array([-2.4565835], dtype=float32), 'logistic': array([0.07895842], dtype=float32), 'probabilities': array([0.92104155, 0.07895844], dtype=float32), 'class_ids': array([0]), 'classes': array([b'0'], dtype=object), 'all_class_ids': array([0, 1], dtype=int32), 'all_classes': array([b'0', b'1'], dtype=object)}, {'logits': array([2.9452975], dtype=float32), 'logistic': array([0.9500408], dtype=float32), 'probabilities': array([0.04995923, 0.95004076], dtype=float32), 'class_ids': array([1]), 'classes': array([b'1'], dtype=object), 'all_class_ids': array([0, 1], dtype=int32), 'all_classes': array([b'0', b'1'], dtype=object)}, {'logits': array([0.8031118], dtype=float32), 'logistic': array([0.69063973], dtype=float32), 'probabilities': array([0.30936027, 0.69063973], dtype=float32), 'class_ids': array([1]), 'classes': array([b'1'], dtype=object), 'all_class_ids': array([0, 1], dtype=int32), 'all_classes': array([b'0', b'1'], dtype=object)}, {'logits': array([-2.0478647], dtype=float32), 'logistic': array([0.11426827], dtype=float32), 'probabilities': array([0.8857317 , 0.11426833], dtype=float32), 'class_ids': array([0]), 'classes': array([b'0'], dtype=object), 'all_class_ids': array([0, 1], dtype=int32), 'all_classes': array([b'0', b'1'], dtype=object)}, {'logits': array([1.0333618], dtype=float32), 'logistic': array([0.73756707], dtype=float32), 'probabilities': array([0.2624329, 0.7375672], dtype=float32), 'class_ids': array([1]), 'classes': array([b'1'], dtype=object), 'all_class_ids': array([0, 1], dtype=int32), 'all_classes': array([b'0', b'1'], dtype=object)}, {'logits': array([-2.0347912], dtype=float32), 'logistic': array([0.1155982], dtype=float32), 'probabilities': array([0.88440186, 0.11559819], dtype=float32), 'class_ids': array([0]), 'classes': array([b'0'], dtype=object), 'all_class_ids': array([0, 1], dtype=int32), 'all_classes': array([b'0', b'1'], dtype=object)}, {'logits': array([1.7759391], dtype=float32), 'logistic': array([0.85519475], dtype=float32), 'probabilities': array([0.1448053, 0.8551947], dtype=float32), 'class_ids': array([1]), 'classes': array([b'1'], dtype=object), 'all_class_ids': array([0, 1], dtype=int32), 'all_classes': array([b'0', b'1'], dtype=object)}, {'logits': array([0.4558172], dtype=float32), 'logistic': array([0.61202145], dtype=float32), 'probabilities': array([0.38797855, 0.61202145], dtype=float32), 'class_ids': array([1]), 'classes': array([b'1'], dtype=object), 'all_class_ids': array([0, 1], dtype=int32), 'all_classes': array([b'0', b'1'], dtype=object)}, {'logits': array([-1.876307], dtype=float32), 'logistic': array([0.13281363], dtype=float32), 'probabilities': array([0.8671864 , 0.13281363], dtype=float32), 'class_ids': array([0]), 'classes': array([b'0'], dtype=object), 'all_class_ids': array([0, 1], dtype=int32), 'all_classes': array([b'0', b'1'], dtype=object)}, {'logits': array([0.29255828], dtype=float32), 'logistic': array([0.5726223], dtype=float32), 'probabilities': array([0.42737767, 0.57262236], dtype=float32), 'class_ids': array([1]), 'classes': array([b'1'], dtype=object), 'all_class_ids': array([0, 1], dtype=int32), 'all_classes': array([b'0', b'1'], dtype=object)}, {'logits': array([1.949293], dtype=float32), 'logistic': array([0.87536955], dtype=float32), 'probabilities': array([0.12463047, 0.8753695 ], dtype=float32), 'class_ids': array([1]), 'classes': array([b'1'], dtype=object), 'all_class_ids': array([0, 1], dtype=int32), 'all_classes': array([b'0', b'1'], dtype=object)}, {'logits': array([-1.8254777], dtype=float32), 'logistic': array([0.13877785], dtype=float32), 'probabilities': array([0.8612221 , 0.13877788], dtype=float32), 'class_ids': array([0]), 'classes': array([b'0'], dtype=object), 'all_class_ids': array([0, 1], dtype=int32), 'all_classes': array([b'0', b'1'], dtype=object)}, {'logits': array([-2.0278084], dtype=float32), 'logistic': array([0.11631396], dtype=float32), 'probabilities': array([0.88368607, 0.116314  ], dtype=float32), 'class_ids': array([0]), 'classes': array([b'0'], dtype=object), 'all_class_ids': array([0, 1], dtype=int32), 'all_classes': array([b'0', b'1'], dtype=object)}, {'logits': array([1.1347039], dtype=float32), 'logistic': array([0.75670594], dtype=float32), 'probabilities': array([0.24329406, 0.75670594], dtype=float32), 'class_ids': array([1]), 'classes': array([b'1'], dtype=object), 'all_class_ids': array([0, 1], dtype=int32), 'all_classes': array([b'0', b'1'], dtype=object)}, {'logits': array([-1.7851514], dtype=float32), 'logistic': array([0.1436682], dtype=float32), 'probabilities': array([0.85633177, 0.1436682 ], dtype=float32), 'class_ids': array([0]), 'classes': array([b'0'], dtype=object), 'all_class_ids': array([0, 1], dtype=int32), 'all_classes': array([b'0', b'1'], dtype=object)}, {'logits': array([-1.5664002], dtype=float32), 'logistic': array([0.17273015], dtype=float32), 'probabilities': array([0.82726985, 0.17273019], dtype=float32), 'class_ids': array([0]), 'classes': array([b'0'], dtype=object), 'all_class_ids': array([0, 1], dtype=int32), 'all_classes': array([b'0', b'1'], dtype=object)}, {'logits': array([-1.3092996], dtype=float32), 'logistic': array([0.21260408], dtype=float32), 'probabilities': array([0.78739595, 0.21260408], dtype=float32), 'class_ids': array([0]), 'classes': array([b'0'], dtype=object), 'all_class_ids': array([0, 1], dtype=int32), 'all_classes': array([b'0', b'1'], dtype=object)}, {'logits': array([-2.2077477], dtype=float32), 'logistic': array([0.09905687], dtype=float32), 'probabilities': array([0.9009431, 0.0990569], dtype=float32), 'class_ids': array([0]), 'classes': array([b'0'], dtype=object), 'all_class_ids': array([0, 1], dtype=int32), 'all_classes': array([b'0', b'1'], dtype=object)}, {'logits': array([0.8589473], dtype=float32), 'logistic': array([0.7024406], dtype=float32), 'probabilities': array([0.29755932, 0.7024406 ], dtype=float32), 'class_ids': array([1]), 'classes': array([b'1'], dtype=object), 'all_class_ids': array([0, 1], dtype=int32), 'all_classes': array([b'0', b'1'], dtype=object)}, {'logits': array([-1.9212562], dtype=float32), 'logistic': array([0.12772155], dtype=float32), 'probabilities': array([0.8722785 , 0.12772156], dtype=float32), 'class_ids': array([0]), 'classes': array([b'0'], dtype=object), 'all_class_ids': array([0, 1], dtype=int32), 'all_classes': array([b'0', b'1'], dtype=object)}, {'logits': array([-2.4354365], dtype=float32), 'logistic': array([0.08051011], dtype=float32), 'probabilities': array([0.91949  , 0.0805101], dtype=float32), 'class_ids': array([0]), 'classes': array([b'0'], dtype=object), 'all_class_ids': array([0, 1], dtype=int32), 'all_classes': array([b'0', b'1'], dtype=object)}, {'logits': array([-2.0648658], dtype=float32), 'logistic': array([0.11255884], dtype=float32), 'probabilities': array([0.8874411 , 0.11255886], dtype=float32), 'class_ids': array([0]), 'classes': array([b'0'], dtype=object), 'all_class_ids': array([0, 1], dtype=int32), 'all_classes': array([b'0', b'1'], dtype=object)}, {'logits': array([-1.9050915], dtype=float32), 'logistic': array([0.12953329], dtype=float32), 'probabilities': array([0.87046677, 0.1295333 ], dtype=float32), 'class_ids': array([0]), 'classes': array([b'0'], dtype=object), 'all_class_ids': array([0, 1], dtype=int32), 'all_classes': array([b'0', b'1'], dtype=object)}, {'logits': array([-1.0852485], dtype=float32), 'logistic': array([0.2525141], dtype=float32), 'probabilities': array([0.7474859 , 0.25251406], dtype=float32), 'class_ids': array([0]), 'classes': array([b'0'], dtype=object), 'all_class_ids': array([0, 1], dtype=int32), 'all_classes': array([b'0', b'1'], dtype=object)}, {'logits': array([-1.4042958], dtype=float32), 'logistic': array([0.19713533], dtype=float32), 'probabilities': array([0.8028647 , 0.19713531], dtype=float32), 'class_ids': array([0]), 'classes': array([b'0'], dtype=object), 'all_class_ids': array([0, 1], dtype=int32), 'all_classes': array([b'0', b'1'], dtype=object)}, {'logits': array([3.4289005], dtype=float32), 'logistic': array([0.9685956], dtype=float32), 'probabilities': array([0.03140436, 0.9685957 ], dtype=float32), 'class_ids': array([1]), 'classes': array([b'1'], dtype=object), 'all_class_ids': array([0, 1], dtype=int32), 'all_classes': array([b'0', b'1'], dtype=object)}, {'logits': array([-1.9662727], dtype=float32), 'logistic': array([0.1227898], dtype=float32), 'probabilities': array([0.87721026, 0.1227898 ], dtype=float32), 'class_ids': array([0]), 'classes': array([b'0'], dtype=object), 'all_class_ids': array([0, 1], dtype=int32), 'all_classes': array([b'0', b'1'], dtype=object)}, {'logits': array([-1.9559132], dtype=float32), 'logistic': array([0.12391001], dtype=float32), 'probabilities': array([0.87609   , 0.12391002], dtype=float32), 'class_ids': array([0]), 'classes': array([b'0'], dtype=object), 'all_class_ids': array([0, 1], dtype=int32), 'all_classes': array([b'0', b'1'], dtype=object)}, {'logits': array([0.9737766], dtype=float32), 'logistic': array([0.7258716], dtype=float32), 'probabilities': array([0.2741284, 0.7258716], dtype=float32), 'class_ids': array([1]), 'classes': array([b'1'], dtype=object), 'all_class_ids': array([0, 1], dtype=int32), 'all_classes': array([b'0', b'1'], dtype=object)}, {'logits': array([3.419472], dtype=float32), 'logistic': array([0.96830755], dtype=float32), 'probabilities': array([0.03169243, 0.96830755], dtype=float32), 'class_ids': array([1]), 'classes': array([b'1'], dtype=object), 'all_class_ids': array([0, 1], dtype=int32), 'all_classes': array([b'0', b'1'], dtype=object)}, {'logits': array([-1.9014639], dtype=float32), 'logistic': array([0.12994286], dtype=float32), 'probabilities': array([0.8700571, 0.1299429], dtype=float32), 'class_ids': array([0]), 'classes': array([b'0'], dtype=object), 'all_class_ids': array([0, 1], dtype=int32), 'all_classes': array([b'0', b'1'], dtype=object)}, {'logits': array([-1.80368], dtype=float32), 'logistic': array([0.14140368], dtype=float32), 'probabilities': array([0.8585963, 0.1414037], dtype=float32), 'class_ids': array([0]), 'classes': array([b'0'], dtype=object), 'all_class_ids': array([0, 1], dtype=int32), 'all_classes': array([b'0', b'1'], dtype=object)}, {'logits': array([-2.0278084], dtype=float32), 'logistic': array([0.11631396], dtype=float32), 'probabilities': array([0.88368607, 0.116314  ], dtype=float32), 'class_ids': array([0]), 'classes': array([b'0'], dtype=object), 'all_class_ids': array([0, 1], dtype=int32), 'all_classes': array([b'0', b'1'], dtype=object)}, {'logits': array([0.15209088], dtype=float32), 'logistic': array([0.53794956], dtype=float32), 'probabilities': array([0.4620504, 0.5379496], dtype=float32), 'class_ids': array([1]), 'classes': array([b'1'], dtype=object), 'all_class_ids': array([0, 1], dtype=int32), 'all_classes': array([b'0', b'1'], dtype=object)}, {'logits': array([-1.6420044], dtype=float32), 'logistic': array([0.1621925], dtype=float32), 'probabilities': array([0.83780754, 0.16219252], dtype=float32), 'class_ids': array([0]), 'classes': array([b'0'], dtype=object), 'all_class_ids': array([0, 1], dtype=int32), 'all_classes': array([b'0', b'1'], dtype=object)}, {'logits': array([-1.4674314], dtype=float32), 'logistic': array([0.18733332], dtype=float32), 'probabilities': array([0.81266665, 0.18733333], dtype=float32), 'class_ids': array([0]), 'classes': array([b'0'], dtype=object), 'all_class_ids': array([0, 1], dtype=int32), 'all_classes': array([b'0', b'1'], dtype=object)}, {'logits': array([-2.2327135], dtype=float32), 'logistic': array([0.09685102], dtype=float32), 'probabilities': array([0.90314895, 0.09685103], dtype=float32), 'class_ids': array([0]), 'classes': array([b'0'], dtype=object), 'all_class_ids': array([0, 1], dtype=int32), 'all_classes': array([b'0', b'1'], dtype=object)}, {'logits': array([-1.4673948], dtype=float32), 'logistic': array([0.18733889], dtype=float32), 'probabilities': array([0.8126611, 0.1873389], dtype=float32), 'class_ids': array([0]), 'classes': array([b'0'], dtype=object), 'all_class_ids': array([0, 1], dtype=int32), 'all_classes': array([b'0', b'1'], dtype=object)}, {'logits': array([-1.9715098], dtype=float32), 'logistic': array([0.12222677], dtype=float32), 'probabilities': array([0.87777317, 0.12222681], dtype=float32), 'class_ids': array([0]), 'classes': array([b'0'], dtype=object), 'all_class_ids': array([0, 1], dtype=int32), 'all_classes': array([b'0', b'1'], dtype=object)}, {'logits': array([-1.0581573], dtype=float32), 'logistic': array([0.25766176], dtype=float32), 'probabilities': array([0.74233824, 0.25766176], dtype=float32), 'class_ids': array([0]), 'classes': array([b'0'], dtype=object), 'all_class_ids': array([0, 1], dtype=int32), 'all_classes': array([b'0', b'1'], dtype=object)}, {'logits': array([-1.3277429], dtype=float32), 'logistic': array([0.20953295], dtype=float32), 'probabilities': array([0.7904671 , 0.20953296], dtype=float32), 'class_ids': array([0]), 'classes': array([b'0'], dtype=object), 'all_class_ids': array([0, 1], dtype=int32), 'all_classes': array([b'0', b'1'], dtype=object)}, {'logits': array([-0.3721955], dtype=float32), 'logistic': array([0.4080106], dtype=float32), 'probabilities': array([0.5919894 , 0.40801063], dtype=float32), 'class_ids': array([0]), 'classes': array([b'0'], dtype=object), 'all_class_ids': array([0, 1], dtype=int32), 'all_classes': array([b'0', b'1'], dtype=object)}, {'logits': array([-1.3562602], dtype=float32), 'logistic': array([0.20484877], dtype=float32), 'probabilities': array([0.7951512, 0.2048488], dtype=float32), 'class_ids': array([0]), 'classes': array([b'0'], dtype=object), 'all_class_ids': array([0, 1], dtype=int32), 'all_classes': array([b'0', b'1'], dtype=object)}, {'logits': array([-1.2858852], dtype=float32), 'logistic': array([0.21655008], dtype=float32), 'probabilities': array([0.7834499, 0.2165501], dtype=float32), 'class_ids': array([0]), 'classes': array([b'0'], dtype=object), 'all_class_ids': array([0, 1], dtype=int32), 'all_classes': array([b'0', b'1'], dtype=object)}, {'logits': array([-1.1914653], dtype=float32), 'logistic': array([0.23299697], dtype=float32), 'probabilities': array([0.76700306, 0.23299699], dtype=float32), 'class_ids': array([0]), 'classes': array([b'0'], dtype=object), 'all_class_ids': array([0, 1], dtype=int32), 'all_classes': array([b'0', b'1'], dtype=object)}, {'logits': array([0.7321739], dtype=float32), 'logistic': array([0.6752821], dtype=float32), 'probabilities': array([0.32471785, 0.6752821 ], dtype=float32), 'class_ids': array([1]), 'classes': array([b'1'], dtype=object), 'all_class_ids': array([0, 1], dtype=int32), 'all_classes': array([b'0', b'1'], dtype=object)}, {'logits': array([-1.4673948], dtype=float32), 'logistic': array([0.18733889], dtype=float32), 'probabilities': array([0.8126611, 0.1873389], dtype=float32), 'class_ids': array([0]), 'classes': array([b'0'], dtype=object), 'all_class_ids': array([0, 1], dtype=int32), 'all_classes': array([b'0', b'1'], dtype=object)}, {'logits': array([0.974831], dtype=float32), 'logistic': array([0.7260814], dtype=float32), 'probabilities': array([0.27391863, 0.7260814 ], dtype=float32), 'class_ids': array([1]), 'classes': array([b'1'], dtype=object), 'all_class_ids': array([0, 1], dtype=int32), 'all_classes': array([b'0', b'1'], dtype=object)}, {'logits': array([-1.8047531], dtype=float32), 'logistic': array([0.14127344], dtype=float32), 'probabilities': array([0.85872656, 0.14127347], dtype=float32), 'class_ids': array([0]), 'classes': array([b'0'], dtype=object), 'all_class_ids': array([0, 1], dtype=int32), 'all_classes': array([b'0', b'1'], dtype=object)}, {'logits': array([3.2132757], dtype=float32), 'logistic': array([0.96133083], dtype=float32), 'probabilities': array([0.03866918, 0.9613308 ], dtype=float32), 'class_ids': array([1]), 'classes': array([b'1'], dtype=object), 'all_class_ids': array([0, 1], dtype=int32), 'all_classes': array([b'0', b'1'], dtype=object)}, {'logits': array([1.4540027], dtype=float32), 'logistic': array([0.81061363], dtype=float32), 'probabilities': array([0.1893863, 0.8106137], dtype=float32), 'class_ids': array([1]), 'classes': array([b'1'], dtype=object), 'all_class_ids': array([0, 1], dtype=int32), 'all_classes': array([b'0', b'1'], dtype=object)}, {'logits': array([-2.1030138], dtype=float32), 'logistic': array([0.10880423], dtype=float32), 'probabilities': array([0.8911957 , 0.10880424], dtype=float32), 'class_ids': array([0]), 'classes': array([b'0'], dtype=object), 'all_class_ids': array([0, 1], dtype=int32), 'all_classes': array([b'0', b'1'], dtype=object)}, {'logits': array([3.4861534], dtype=float32), 'logistic': array([0.9702912], dtype=float32), 'probabilities': array([0.02970879, 0.9702912 ], dtype=float32), 'class_ids': array([1]), 'classes': array([b'1'], dtype=object), 'all_class_ids': array([0, 1], dtype=int32), 'all_classes': array([b'0', b'1'], dtype=object)}, {'logits': array([-1.5641013], dtype=float32), 'logistic': array([0.1730589], dtype=float32), 'probabilities': array([0.82694113, 0.17305893], dtype=float32), 'class_ids': array([0]), 'classes': array([b'0'], dtype=object), 'all_class_ids': array([0, 1], dtype=int32), 'all_classes': array([b'0', b'1'], dtype=object)}, {'logits': array([-1.4544479], dtype=float32), 'logistic': array([0.18931797], dtype=float32), 'probabilities': array([0.810682  , 0.18931797], dtype=float32), 'class_ids': array([0]), 'classes': array([b'0'], dtype=object), 'all_class_ids': array([0, 1], dtype=int32), 'all_classes': array([b'0', b'1'], dtype=object)}, {'logits': array([3.3082557], dtype=float32), 'logistic': array([0.96471095], dtype=float32), 'probabilities': array([0.03528905, 0.9647109 ], dtype=float32), 'class_ids': array([1]), 'classes': array([b'1'], dtype=object), 'all_class_ids': array([0, 1], dtype=int32), 'all_classes': array([b'0', b'1'], dtype=object)}, {'logits': array([-1.9166371], dtype=float32), 'logistic': array([0.12823704], dtype=float32), 'probabilities': array([0.871763  , 0.12823705], dtype=float32), 'class_ids': array([0]), 'classes': array([b'0'], dtype=object), 'all_class_ids': array([0, 1], dtype=int32), 'all_classes': array([b'0', b'1'], dtype=object)}, {'logits': array([1.5782133], dtype=float32), 'logistic': array([0.82895136], dtype=float32), 'probabilities': array([0.17104867, 0.82895136], dtype=float32), 'class_ids': array([1]), 'classes': array([b'1'], dtype=object), 'all_class_ids': array([0, 1], dtype=int32), 'all_classes': array([b'0', b'1'], dtype=object)}, {'logits': array([-2.0291545], dtype=float32), 'logistic': array([0.11617565], dtype=float32), 'probabilities': array([0.8838243 , 0.11617571], dtype=float32), 'class_ids': array([0]), 'classes': array([b'0'], dtype=object), 'all_class_ids': array([0, 1], dtype=int32), 'all_classes': array([b'0', b'1'], dtype=object)}, {'logits': array([-0.5175686], dtype=float32), 'logistic': array([0.37342095], dtype=float32), 'probabilities': array([0.62657905, 0.37342095], dtype=float32), 'class_ids': array([0]), 'classes': array([b'0'], dtype=object), 'all_class_ids': array([0, 1], dtype=int32), 'all_classes': array([b'0', b'1'], dtype=object)}, {'logits': array([-2.3242652], dtype=float32), 'logistic': array([0.08913314], dtype=float32), 'probabilities': array([0.9108668 , 0.08913316], dtype=float32), 'class_ids': array([0]), 'classes': array([b'0'], dtype=object), 'all_class_ids': array([0, 1], dtype=int32), 'all_classes': array([b'0', b'1'], dtype=object)}, {'logits': array([-1.7851514], dtype=float32), 'logistic': array([0.1436682], dtype=float32), 'probabilities': array([0.85633177, 0.1436682 ], dtype=float32), 'class_ids': array([0]), 'classes': array([b'0'], dtype=object), 'all_class_ids': array([0, 1], dtype=int32), 'all_classes': array([b'0', b'1'], dtype=object)}, {'logits': array([0.9378114], dtype=float32), 'logistic': array([0.7186573], dtype=float32), 'probabilities': array([0.28134266, 0.7186573 ], dtype=float32), 'class_ids': array([1]), 'classes': array([b'1'], dtype=object), 'all_class_ids': array([0, 1], dtype=int32), 'all_classes': array([b'0', b'1'], dtype=object)}, {'logits': array([2.4638402], dtype=float32), 'logistic': array([0.9215677], dtype=float32), 'probabilities': array([0.07843231, 0.92156774], dtype=float32), 'class_ids': array([1]), 'classes': array([b'1'], dtype=object), 'all_class_ids': array([0, 1], dtype=int32), 'all_classes': array([b'0', b'1'], dtype=object)}, {'logits': array([-1.2874869], dtype=float32), 'logistic': array([0.21627846], dtype=float32), 'probabilities': array([0.7837215 , 0.21627848], dtype=float32), 'class_ids': array([0]), 'classes': array([b'0'], dtype=object), 'all_class_ids': array([0, 1], dtype=int32), 'all_classes': array([b'0', b'1'], dtype=object)}, {'logits': array([0.09925184], dtype=float32), 'logistic': array([0.5247926], dtype=float32), 'probabilities': array([0.47520736, 0.5247926 ], dtype=float32), 'class_ids': array([1]), 'classes': array([b'1'], dtype=object), 'all_class_ids': array([0, 1], dtype=int32), 'all_classes': array([b'0', b'1'], dtype=object)}, {'logits': array([-1.8998178], dtype=float32), 'logistic': array([0.13012904], dtype=float32), 'probabilities': array([0.8698709, 0.1301291], dtype=float32), 'class_ids': array([0]), 'classes': array([b'0'], dtype=object), 'all_class_ids': array([0, 1], dtype=int32), 'all_classes': array([b'0', b'1'], dtype=object)}, {'logits': array([-1.8278445], dtype=float32), 'logistic': array([0.13849527], dtype=float32), 'probabilities': array([0.8615048 , 0.13849527], dtype=float32), 'class_ids': array([0]), 'classes': array([b'0'], dtype=object), 'all_class_ids': array([0, 1], dtype=int32), 'all_classes': array([b'0', b'1'], dtype=object)}, {'logits': array([-0.8876558], dtype=float32), 'logistic': array([0.29159385], dtype=float32), 'probabilities': array([0.70840615, 0.29159382], dtype=float32), 'class_ids': array([0]), 'classes': array([b'0'], dtype=object), 'all_class_ids': array([0, 1], dtype=int32), 'all_classes': array([b'0', b'1'], dtype=object)}, {'logits': array([-0.8900008], dtype=float32), 'logistic': array([0.29110965], dtype=float32), 'probabilities': array([0.7088904 , 0.29110968], dtype=float32), 'class_ids': array([0]), 'classes': array([b'0'], dtype=object), 'all_class_ids': array([0, 1], dtype=int32), 'all_classes': array([b'0', b'1'], dtype=object)}, {'logits': array([3.688692], dtype=float32), 'logistic': array([0.9756053], dtype=float32), 'probabilities': array([0.0243947 , 0.97560537], dtype=float32), 'class_ids': array([1]), 'classes': array([b'1'], dtype=object), 'all_class_ids': array([0, 1], dtype=int32), 'all_classes': array([b'0', b'1'], dtype=object)}, {'logits': array([0.15560576], dtype=float32), 'logistic': array([0.5388231], dtype=float32), 'probabilities': array([0.4611769, 0.5388232], dtype=float32), 'class_ids': array([1]), 'classes': array([b'1'], dtype=object), 'all_class_ids': array([0, 1], dtype=int32), 'all_classes': array([b'0', b'1'], dtype=object)}, {'logits': array([-1.8623977], dtype=float32), 'logistic': array([0.13442385], dtype=float32), 'probabilities': array([0.8655762 , 0.13442384], dtype=float32), 'class_ids': array([0]), 'classes': array([b'0'], dtype=object), 'all_class_ids': array([0, 1], dtype=int32), 'all_classes': array([b'0', b'1'], dtype=object)}, {'logits': array([-0.10488071], dtype=float32), 'logistic': array([0.47380385], dtype=float32), 'probabilities': array([0.5261962 , 0.47380385], dtype=float32), 'class_ids': array([0]), 'classes': array([b'0'], dtype=object), 'all_class_ids': array([0, 1], dtype=int32), 'all_classes': array([b'0', b'1'], dtype=object)}, {'logits': array([0.9755223], dtype=float32), 'logistic': array([0.7262188], dtype=float32), 'probabilities': array([0.27378115, 0.7262188 ], dtype=float32), 'class_ids': array([1]), 'classes': array([b'1'], dtype=object), 'all_class_ids': array([0, 1], dtype=int32), 'all_classes': array([b'0', b'1'], dtype=object)}, {'logits': array([1.1513878], dtype=float32), 'logistic': array([0.7597643], dtype=float32), 'probabilities': array([0.24023567, 0.7597643 ], dtype=float32), 'class_ids': array([1]), 'classes': array([b'1'], dtype=object), 'all_class_ids': array([0, 1], dtype=int32), 'all_classes': array([b'0', b'1'], dtype=object)}, {'logits': array([-1.1031868], dtype=float32), 'logistic': array([0.24914327], dtype=float32), 'probabilities': array([0.75085676, 0.24914326], dtype=float32), 'class_ids': array([0]), 'classes': array([b'0'], dtype=object), 'all_class_ids': array([0, 1], dtype=int32), 'all_classes': array([b'0', b'1'], dtype=object)}, {'logits': array([0.39895257], dtype=float32), 'logistic': array([0.598436], dtype=float32), 'probabilities': array([0.40156403, 0.598436  ], dtype=float32), 'class_ids': array([1]), 'classes': array([b'1'], dtype=object), 'all_class_ids': array([0, 1], dtype=int32), 'all_classes': array([b'0', b'1'], dtype=object)}, {'logits': array([-1.689774], dtype=float32), 'logistic': array([0.15580553], dtype=float32), 'probabilities': array([0.8441944 , 0.15580556], dtype=float32), 'class_ids': array([0]), 'classes': array([b'0'], dtype=object), 'all_class_ids': array([0, 1], dtype=int32), 'all_classes': array([b'0', b'1'], dtype=object)}, {'logits': array([-1.0715692], dtype=float32), 'logistic': array([0.2551048], dtype=float32), 'probabilities': array([0.7448952 , 0.25510478], dtype=float32), 'class_ids': array([0]), 'classes': array([b'0'], dtype=object), 'all_class_ids': array([0, 1], dtype=int32), 'all_classes': array([b'0', b'1'], dtype=object)}, {'logits': array([2.4609826], dtype=float32), 'logistic': array([0.9213609], dtype=float32), 'probabilities': array([0.07863912, 0.9213609 ], dtype=float32), 'class_ids': array([1]), 'classes': array([b'1'], dtype=object), 'all_class_ids': array([0, 1], dtype=int32), 'all_classes': array([b'0', b'1'], dtype=object)}, {'logits': array([-1.9958493], dtype=float32), 'logistic': array([0.1196394], dtype=float32), 'probabilities': array([0.88036054, 0.1196394 ], dtype=float32), 'class_ids': array([0]), 'classes': array([b'0'], dtype=object), 'all_class_ids': array([0, 1], dtype=int32), 'all_classes': array([b'0', b'1'], dtype=object)}, {'logits': array([-1.9629585], dtype=float32), 'logistic': array([0.12314719], dtype=float32), 'probabilities': array([0.87685275, 0.12314723], dtype=float32), 'class_ids': array([0]), 'classes': array([b'0'], dtype=object), 'all_class_ids': array([0, 1], dtype=int32), 'all_classes': array([b'0', b'1'], dtype=object)}, {'logits': array([0.7637334], dtype=float32), 'logistic': array([0.6821637], dtype=float32), 'probabilities': array([0.31783625, 0.6821638 ], dtype=float32), 'class_ids': array([1]), 'classes': array([b'1'], dtype=object), 'all_class_ids': array([0, 1], dtype=int32), 'all_classes': array([b'0', b'1'], dtype=object)}, {'logits': array([0.9782133], dtype=float32), 'logistic': array([0.72675353], dtype=float32), 'probabilities': array([0.27324644, 0.72675353], dtype=float32), 'class_ids': array([1]), 'classes': array([b'1'], dtype=object), 'all_class_ids': array([0, 1], dtype=int32), 'all_classes': array([b'0', b'1'], dtype=object)}, {'logits': array([-0.5310324], dtype=float32), 'logistic': array([0.37027615], dtype=float32), 'probabilities': array([0.62972385, 0.37027615], dtype=float32), 'class_ids': array([0]), 'classes': array([b'0'], dtype=object), 'all_class_ids': array([0, 1], dtype=int32), 'all_classes': array([b'0', b'1'], dtype=object)}, {'logits': array([-2.0678227], dtype=float32), 'logistic': array([0.11226386], dtype=float32), 'probabilities': array([0.8877362 , 0.11226385], dtype=float32), 'class_ids': array([0]), 'classes': array([b'0'], dtype=object), 'all_class_ids': array([0, 1], dtype=int32), 'all_classes': array([b'0', b'1'], dtype=object)}, {'logits': array([-1.4118458], dtype=float32), 'logistic': array([0.19594309], dtype=float32), 'probabilities': array([0.8040569 , 0.19594307], dtype=float32), 'class_ids': array([0]), 'classes': array([b'0'], dtype=object), 'all_class_ids': array([0, 1], dtype=int32), 'all_classes': array([b'0', b'1'], dtype=object)}, {'logits': array([-1.6361501], dtype=float32), 'logistic': array([0.16298959], dtype=float32), 'probabilities': array([0.83701044, 0.1629896 ], dtype=float32), 'class_ids': array([0]), 'classes': array([b'0'], dtype=object), 'all_class_ids': array([0, 1], dtype=int32), 'all_classes': array([b'0', b'1'], dtype=object)}, {'logits': array([-2.3242652], dtype=float32), 'logistic': array([0.08913314], dtype=float32), 'probabilities': array([0.9108668 , 0.08913316], dtype=float32), 'class_ids': array([0]), 'classes': array([b'0'], dtype=object), 'all_class_ids': array([0, 1], dtype=int32), 'all_classes': array([b'0', b'1'], dtype=object)}, {'logits': array([-1.8803847], dtype=float32), 'logistic': array([0.13234466], dtype=float32), 'probabilities': array([0.86765534, 0.1323447 ], dtype=float32), 'class_ids': array([0]), 'classes': array([b'0'], dtype=object), 'all_class_ids': array([0, 1], dtype=int32), 'all_classes': array([b'0', b'1'], dtype=object)}, {'logits': array([4.745911], dtype=float32), 'logistic': array([0.9913876], dtype=float32), 'probabilities': array([0.00861233, 0.99138767], dtype=float32), 'class_ids': array([1]), 'classes': array([b'1'], dtype=object), 'all_class_ids': array([0, 1], dtype=int32), 'all_classes': array([b'0', b'1'], dtype=object)}, {'logits': array([1.591413], dtype=float32), 'logistic': array([0.83081484], dtype=float32), 'probabilities': array([0.16918519, 0.83081484], dtype=float32), 'class_ids': array([1]), 'classes': array([b'1'], dtype=object), 'all_class_ids': array([0, 1], dtype=int32), 'all_classes': array([b'0', b'1'], dtype=object)}, {'logits': array([-1.8941443], dtype=float32), 'logistic': array([0.13077265], dtype=float32), 'probabilities': array([0.86922735, 0.13077267], dtype=float32), 'class_ids': array([0]), 'classes': array([b'0'], dtype=object), 'all_class_ids': array([0, 1], dtype=int32), 'all_classes': array([b'0', b'1'], dtype=object)}, {'logits': array([1.253532], dtype=float32), 'logistic': array([0.7779107], dtype=float32), 'probabilities': array([0.22208932, 0.7779107 ], dtype=float32), 'class_ids': array([1]), 'classes': array([b'1'], dtype=object), 'all_class_ids': array([0, 1], dtype=int32), 'all_classes': array([b'0', b'1'], dtype=object)}, {'logits': array([0.04091976], dtype=float32), 'logistic': array([0.5102285], dtype=float32), 'probabilities': array([0.48977146, 0.5102285 ], dtype=float32), 'class_ids': array([1]), 'classes': array([b'1'], dtype=object), 'all_class_ids': array([0, 1], dtype=int32), 'all_classes': array([b'0', b'1'], dtype=object)}, {'logits': array([-1.6405144], dtype=float32), 'logistic': array([0.16239509], dtype=float32), 'probabilities': array([0.8376049 , 0.16239507], dtype=float32), 'class_ids': array([0]), 'classes': array([b'0'], dtype=object), 'all_class_ids': array([0, 1], dtype=int32), 'all_classes': array([b'0', b'1'], dtype=object)}, {'logits': array([-1.7343701], dtype=float32), 'logistic': array([0.15002945], dtype=float32), 'probabilities': array([0.8499706 , 0.15002945], dtype=float32), 'class_ids': array([0]), 'classes': array([b'0'], dtype=object), 'all_class_ids': array([0, 1], dtype=int32), 'all_classes': array([b'0', b'1'], dtype=object)}, {'logits': array([-1.3070006], dtype=float32), 'logistic': array([0.21298918], dtype=float32), 'probabilities': array([0.7870108 , 0.21298918], dtype=float32), 'class_ids': array([0]), 'classes': array([b'0'], dtype=object), 'all_class_ids': array([0, 1], dtype=int32), 'all_classes': array([b'0', b'1'], dtype=object)}, {'logits': array([-1.874234], dtype=float32), 'logistic': array([0.13305256], dtype=float32), 'probabilities': array([0.8669475 , 0.13305259], dtype=float32), 'class_ids': array([0]), 'classes': array([b'0'], dtype=object), 'all_class_ids': array([0, 1], dtype=int32), 'all_classes': array([b'0', b'1'], dtype=object)}, {'logits': array([0.9747219], dtype=float32), 'logistic': array([0.7260597], dtype=float32), 'probabilities': array([0.27394032, 0.7260597 ], dtype=float32), 'class_ids': array([1]), 'classes': array([b'1'], dtype=object), 'all_class_ids': array([0, 1], dtype=int32), 'all_classes': array([b'0', b'1'], dtype=object)}, {'logits': array([-1.9668084], dtype=float32), 'logistic': array([0.1227321], dtype=float32), 'probabilities': array([0.87726796, 0.12273211], dtype=float32), 'class_ids': array([0]), 'classes': array([b'0'], dtype=object), 'all_class_ids': array([0, 1], dtype=int32), 'all_classes': array([b'0', b'1'], dtype=object)}, {'logits': array([0.6815207], dtype=float32), 'logistic': array([0.664078], dtype=float32), 'probabilities': array([0.33592197, 0.664078  ], dtype=float32), 'class_ids': array([1]), 'classes': array([b'1'], dtype=object), 'all_class_ids': array([0, 1], dtype=int32), 'all_classes': array([b'0', b'1'], dtype=object)}, {'logits': array([0.06347141], dtype=float32), 'logistic': array([0.5158625], dtype=float32), 'probabilities': array([0.48413748, 0.5158625 ], dtype=float32), 'class_ids': array([1]), 'classes': array([b'1'], dtype=object), 'all_class_ids': array([0, 1], dtype=int32), 'all_classes': array([b'0', b'1'], dtype=object)}, {'logits': array([-2.0844853], dtype=float32), 'logistic': array([0.11061394], dtype=float32), 'probabilities': array([0.889386  , 0.11061393], dtype=float32), 'class_ids': array([0]), 'classes': array([b'0'], dtype=object), 'all_class_ids': array([0, 1], dtype=int32), 'all_classes': array([b'0', b'1'], dtype=object)}, {'logits': array([-1.4532166], dtype=float32), 'logistic': array([0.18950701], dtype=float32), 'probabilities': array([0.810493  , 0.18950704], dtype=float32), 'class_ids': array([0]), 'classes': array([b'0'], dtype=object), 'all_class_ids': array([0, 1], dtype=int32), 'all_classes': array([b'0', b'1'], dtype=object)}, {'logits': array([1.5270958], dtype=float32), 'logistic': array([0.821581], dtype=float32), 'probabilities': array([0.178419, 0.821581], dtype=float32), 'class_ids': array([1]), 'classes': array([b'1'], dtype=object), 'all_class_ids': array([0, 1], dtype=int32), 'all_classes': array([b'0', b'1'], dtype=object)}, {'logits': array([0.5301721], dtype=float32), 'logistic': array([0.6295233], dtype=float32), 'probabilities': array([0.37047675, 0.6295233 ], dtype=float32), 'class_ids': array([1]), 'classes': array([b'1'], dtype=object), 'all_class_ids': array([0, 1], dtype=int32), 'all_classes': array([b'0', b'1'], dtype=object)}, {'logits': array([-1.840737], dtype=float32), 'logistic': array([0.13696417], dtype=float32), 'probabilities': array([0.8630358 , 0.13696414], dtype=float32), 'class_ids': array([0]), 'classes': array([b'0'], dtype=object), 'all_class_ids': array([0, 1], dtype=int32), 'all_classes': array([b'0', b'1'], dtype=object)}, {'logits': array([-0.43058982], dtype=float32), 'logistic': array([0.3939855], dtype=float32), 'probabilities': array([0.6060145, 0.3939855], dtype=float32), 'class_ids': array([0]), 'classes': array([b'0'], dtype=object), 'all_class_ids': array([0, 1], dtype=int32), 'all_classes': array([b'0', b'1'], dtype=object)}, {'logits': array([-1.0236368], dtype=float32), 'logistic': array([0.2643196], dtype=float32), 'probabilities': array([0.73568046, 0.2643196 ], dtype=float32), 'class_ids': array([0]), 'classes': array([b'0'], dtype=object), 'all_class_ids': array([0, 1], dtype=int32), 'all_classes': array([b'0', b'1'], dtype=object)}, {'logits': array([3.1044872], dtype=float32), 'logistic': array([0.9570775], dtype=float32), 'probabilities': array([0.04292255, 0.9570775 ], dtype=float32), 'class_ids': array([1]), 'classes': array([b'1'], dtype=object), 'all_class_ids': array([0, 1], dtype=int32), 'all_classes': array([b'0', b'1'], dtype=object)}, {'logits': array([3.133486], dtype=float32), 'logistic': array([0.9582531], dtype=float32), 'probabilities': array([0.04174693, 0.9582531 ], dtype=float32), 'class_ids': array([1]), 'classes': array([b'1'], dtype=object), 'all_class_ids': array([0, 1], dtype=int32), 'all_classes': array([b'0', b'1'], dtype=object)}, {'logits': array([-1.8078665], dtype=float32), 'logistic': array([0.14089617], dtype=float32), 'probabilities': array([0.85910386, 0.14089619], dtype=float32), 'class_ids': array([0]), 'classes': array([b'0'], dtype=object), 'all_class_ids': array([0, 1], dtype=int32), 'all_classes': array([b'0', b'1'], dtype=object)}, {'logits': array([0.9285096], dtype=float32), 'logistic': array([0.7167728], dtype=float32), 'probabilities': array([0.28322718, 0.7167728 ], dtype=float32), 'class_ids': array([1]), 'classes': array([b'1'], dtype=object), 'all_class_ids': array([0, 1], dtype=int32), 'all_classes': array([b'0', b'1'], dtype=object)}, {'logits': array([-1.9410383], dtype=float32), 'logistic': array([0.12553382], dtype=float32), 'probabilities': array([0.8744662 , 0.12553383], dtype=float32), 'class_ids': array([0]), 'classes': array([b'0'], dtype=object), 'all_class_ids': array([0, 1], dtype=int32), 'all_classes': array([b'0', b'1'], dtype=object)}, {'logits': array([-1.4674314], dtype=float32), 'logistic': array([0.18733332], dtype=float32), 'probabilities': array([0.81266665, 0.18733333], dtype=float32), 'class_ids': array([0]), 'classes': array([b'0'], dtype=object), 'all_class_ids': array([0, 1], dtype=int32), 'all_classes': array([b'0', b'1'], dtype=object)}, {'logits': array([1.2598361], dtype=float32), 'logistic': array([0.7789979], dtype=float32), 'probabilities': array([0.22100212, 0.7789979 ], dtype=float32), 'class_ids': array([1]), 'classes': array([b'1'], dtype=object), 'all_class_ids': array([0, 1], dtype=int32), 'all_classes': array([b'0', b'1'], dtype=object)}, {'logits': array([-1.7852604], dtype=float32), 'logistic': array([0.14365476], dtype=float32), 'probabilities': array([0.85634524, 0.1436548 ], dtype=float32), 'class_ids': array([0]), 'classes': array([b'0'], dtype=object), 'all_class_ids': array([0, 1], dtype=int32), 'all_classes': array([b'0', b'1'], dtype=object)}, {'logits': array([4.0593195], dtype=float32), 'logistic': array([0.9830321], dtype=float32), 'probabilities': array([0.01696788, 0.9830321 ], dtype=float32), 'class_ids': array([1]), 'classes': array([b'1'], dtype=object), 'all_class_ids': array([0, 1], dtype=int32), 'all_classes': array([b'0', b'1'], dtype=object)}, {'logits': array([1.5705155], dtype=float32), 'logistic': array([0.82785714], dtype=float32), 'probabilities': array([0.17214291, 0.8278571 ], dtype=float32), 'class_ids': array([1]), 'classes': array([b'1'], dtype=object), 'all_class_ids': array([0, 1], dtype=int32), 'all_classes': array([b'0', b'1'], dtype=object)}, {'logits': array([-1.9792057], dtype=float32), 'logistic': array([0.12140352], dtype=float32), 'probabilities': array([0.8785965 , 0.12140354], dtype=float32), 'class_ids': array([0]), 'classes': array([b'0'], dtype=object), 'all_class_ids': array([0, 1], dtype=int32), 'all_classes': array([b'0', b'1'], dtype=object)}, {'logits': array([0.91262186], dtype=float32), 'logistic': array([0.7135364], dtype=float32), 'probabilities': array([0.28646362, 0.7135364 ], dtype=float32), 'class_ids': array([1]), 'classes': array([b'1'], dtype=object), 'all_class_ids': array([0, 1], dtype=int32), 'all_classes': array([b'0', b'1'], dtype=object)}, {'logits': array([-1.8035703], dtype=float32), 'logistic': array([0.14141703], dtype=float32), 'probabilities': array([0.858583  , 0.14141701], dtype=float32), 'class_ids': array([0]), 'classes': array([b'0'], dtype=object), 'all_class_ids': array([0, 1], dtype=int32), 'all_classes': array([b'0', b'1'], dtype=object)}, {'logits': array([-0.894663], dtype=float32), 'logistic': array([0.2901485], dtype=float32), 'probabilities': array([0.7098515 , 0.29014847], dtype=float32), 'class_ids': array([0]), 'classes': array([b'0'], dtype=object), 'all_class_ids': array([0, 1], dtype=int32), 'all_classes': array([b'0', b'1'], dtype=object)}, {'logits': array([-2.0186632], dtype=float32), 'logistic': array([0.11725727], dtype=float32), 'probabilities': array([0.88274276, 0.1172573 ], dtype=float32), 'class_ids': array([0]), 'classes': array([b'0'], dtype=object), 'all_class_ids': array([0, 1], dtype=int32), 'all_classes': array([b'0', b'1'], dtype=object)}, {'logits': array([0.91505885], dtype=float32), 'logistic': array([0.7140342], dtype=float32), 'probabilities': array([0.28596577, 0.71403426], dtype=float32), 'class_ids': array([1]), 'classes': array([b'1'], dtype=object), 'all_class_ids': array([0, 1], dtype=int32), 'all_classes': array([b'0', b'1'], dtype=object)}, {'logits': array([0.31337854], dtype=float32), 'logistic': array([0.5777097], dtype=float32), 'probabilities': array([0.4222903 , 0.57770973], dtype=float32), 'class_ids': array([1]), 'classes': array([b'1'], dtype=object), 'all_class_ids': array([0, 1], dtype=int32), 'all_classes': array([b'0', b'1'], dtype=object)}, {'logits': array([-2.3197024], dtype=float32), 'logistic': array([0.08950433], dtype=float32), 'probabilities': array([0.9104957 , 0.08950432], dtype=float32), 'class_ids': array([0]), 'classes': array([b'0'], dtype=object), 'all_class_ids': array([0, 1], dtype=int32), 'all_classes': array([b'0', b'1'], dtype=object)}, {'logits': array([-1.0729412], dtype=float32), 'logistic': array([0.25484416], dtype=float32), 'probabilities': array([0.7451558 , 0.25484413], dtype=float32), 'class_ids': array([0]), 'classes': array([b'0'], dtype=object), 'all_class_ids': array([0, 1], dtype=int32), 'all_classes': array([b'0', b'1'], dtype=object)}, {'logits': array([1.7983283], dtype=float32), 'logistic': array([0.8579453], dtype=float32), 'probabilities': array([0.14205468, 0.85794526], dtype=float32), 'class_ids': array([1]), 'classes': array([b'1'], dtype=object), 'all_class_ids': array([0, 1], dtype=int32), 'all_classes': array([b'0', b'1'], dtype=object)}, {'logits': array([-0.32156542], dtype=float32), 'logistic': array([0.42029428], dtype=float32), 'probabilities': array([0.5797057, 0.4202943], dtype=float32), 'class_ids': array([0]), 'classes': array([b'0'], dtype=object), 'all_class_ids': array([0, 1], dtype=int32), 'all_classes': array([b'0', b'1'], dtype=object)}, {'logits': array([2.677388], dtype=float32), 'logistic': array([0.9356791], dtype=float32), 'probabilities': array([0.0643209, 0.9356791], dtype=float32), 'class_ids': array([1]), 'classes': array([b'1'], dtype=object), 'all_class_ids': array([0, 1], dtype=int32), 'all_classes': array([b'0', b'1'], dtype=object)}, {'logits': array([-0.39645842], dtype=float32), 'logistic': array([0.40216357], dtype=float32), 'probabilities': array([0.59783643, 0.40216354], dtype=float32), 'class_ids': array([0]), 'classes': array([b'0'], dtype=object), 'all_class_ids': array([0, 1], dtype=int32), 'all_classes': array([b'0', b'1'], dtype=object)}, {'logits': array([-1.6790649], dtype=float32), 'logistic': array([0.15721932], dtype=float32), 'probabilities': array([0.84278065, 0.15721934], dtype=float32), 'class_ids': array([0]), 'classes': array([b'0'], dtype=object), 'all_class_ids': array([0, 1], dtype=int32), 'all_classes': array([b'0', b'1'], dtype=object)}, {'logits': array([-1.8806713], dtype=float32), 'logistic': array([0.13231176], dtype=float32), 'probabilities': array([0.8676882 , 0.13231178], dtype=float32), 'class_ids': array([0]), 'classes': array([b'0'], dtype=object), 'all_class_ids': array([0, 1], dtype=int32), 'all_classes': array([b'0', b'1'], dtype=object)}, {'logits': array([-1.8186483], dtype=float32), 'logistic': array([0.13959616], dtype=float32), 'probabilities': array([0.86040384, 0.13959613], dtype=float32), 'class_ids': array([0]), 'classes': array([b'0'], dtype=object), 'all_class_ids': array([0, 1], dtype=int32), 'all_classes': array([b'0', b'1'], dtype=object)}, {'logits': array([-2.8825214], dtype=float32), 'logistic': array([0.05302435], dtype=float32), 'probabilities': array([0.9469756 , 0.05302439], dtype=float32), 'class_ids': array([0]), 'classes': array([b'0'], dtype=object), 'all_class_ids': array([0, 1], dtype=int32), 'all_classes': array([b'0', b'1'], dtype=object)}, {'logits': array([1.9603645], dtype=float32), 'logistic': array([0.8765724], dtype=float32), 'probabilities': array([0.12342761, 0.8765724 ], dtype=float32), 'class_ids': array([1]), 'classes': array([b'1'], dtype=object), 'all_class_ids': array([0, 1], dtype=int32), 'all_classes': array([b'0', b'1'], dtype=object)}, {'logits': array([1.4794825], dtype=float32), 'logistic': array([0.8144944], dtype=float32), 'probabilities': array([0.18550558, 0.8144944 ], dtype=float32), 'class_ids': array([1]), 'classes': array([b'1'], dtype=object), 'all_class_ids': array([0, 1], dtype=int32), 'all_classes': array([b'0', b'1'], dtype=object)}, {'logits': array([-1.4673948], dtype=float32), 'logistic': array([0.18733889], dtype=float32), 'probabilities': array([0.8126611, 0.1873389], dtype=float32), 'class_ids': array([0]), 'classes': array([b'0'], dtype=object), 'all_class_ids': array([0, 1], dtype=int32), 'all_classes': array([b'0', b'1'], dtype=object)}, {'logits': array([-0.9809061], dtype=float32), 'logistic': array([0.27271205], dtype=float32), 'probabilities': array([0.727288  , 0.27271205], dtype=float32), 'class_ids': array([0]), 'classes': array([b'0'], dtype=object), 'all_class_ids': array([0, 1], dtype=int32), 'all_classes': array([b'0', b'1'], dtype=object)}, {'logits': array([2.417351], dtype=float32), 'logistic': array([0.9181409], dtype=float32), 'probabilities': array([0.08185913, 0.9181409 ], dtype=float32), 'class_ids': array([1]), 'classes': array([b'1'], dtype=object), 'all_class_ids': array([0, 1], dtype=int32), 'all_classes': array([b'0', b'1'], dtype=object)}, {'logits': array([0.16104886], dtype=float32), 'logistic': array([0.54017544], dtype=float32), 'probabilities': array([0.4598246 , 0.54017544], dtype=float32), 'class_ids': array([1]), 'classes': array([b'1'], dtype=object), 'all_class_ids': array([0, 1], dtype=int32), 'all_classes': array([b'0', b'1'], dtype=object)}, {'logits': array([-2.0151522], dtype=float32), 'logistic': array([0.11762118], dtype=float32), 'probabilities': array([0.8823788 , 0.11762119], dtype=float32), 'class_ids': array([0]), 'classes': array([b'0'], dtype=object), 'all_class_ids': array([0, 1], dtype=int32), 'all_classes': array([b'0', b'1'], dtype=object)}, {'logits': array([2.7338865], dtype=float32), 'logistic': array([0.93899685], dtype=float32), 'probabilities': array([0.06100316, 0.93899685], dtype=float32), 'class_ids': array([1]), 'classes': array([b'1'], dtype=object), 'all_class_ids': array([0, 1], dtype=int32), 'all_classes': array([b'0', b'1'], dtype=object)}, {'logits': array([1.7836856], dtype=float32), 'logistic': array([0.8561514], dtype=float32), 'probabilities': array([0.14384864, 0.8561514 ], dtype=float32), 'class_ids': array([1]), 'classes': array([b'1'], dtype=object), 'all_class_ids': array([0, 1], dtype=int32), 'all_classes': array([b'0', b'1'], dtype=object)}, {'logits': array([-2.1217973], dtype=float32), 'logistic': array([0.10699621], dtype=float32), 'probabilities': array([0.8930038 , 0.10699622], dtype=float32), 'class_ids': array([0]), 'classes': array([b'0'], dtype=object), 'all_class_ids': array([0, 1], dtype=int32), 'all_classes': array([b'0', b'1'], dtype=object)}, {'logits': array([0.6234511], dtype=float32), 'logistic': array([0.651003], dtype=float32), 'probabilities': array([0.34899697, 0.65100306], dtype=float32), 'class_ids': array([1]), 'classes': array([b'1'], dtype=object), 'all_class_ids': array([0, 1], dtype=int32), 'all_classes': array([b'0', b'1'], dtype=object)}, {'logits': array([-1.1773009], dtype=float32), 'logistic': array([0.23553786], dtype=float32), 'probabilities': array([0.7644621 , 0.23553783], dtype=float32), 'class_ids': array([0]), 'classes': array([b'0'], dtype=object), 'all_class_ids': array([0, 1], dtype=int32), 'all_classes': array([b'0', b'1'], dtype=object)}, {'logits': array([0.01529262], dtype=float32), 'logistic': array([0.5038231], dtype=float32), 'probabilities': array([0.49617693, 0.5038231 ], dtype=float32), 'class_ids': array([1]), 'classes': array([b'1'], dtype=object), 'all_class_ids': array([0, 1], dtype=int32), 'all_classes': array([b'0', b'1'], dtype=object)}]\n",
            "{'logits': array([-2.1575084], dtype=float32), 'logistic': array([0.10363168], dtype=float32), 'probabilities': array([0.89636827, 0.10363167], dtype=float32), 'class_ids': array([0]), 'classes': array([b'0'], dtype=object), 'all_class_ids': array([0, 1], dtype=int32), 'all_classes': array([b'0', b'1'], dtype=object)}\n",
            "[0.89636827 0.10363167]\n"
          ],
          "name": "stdout"
        }
      ]
    },
    {
      "cell_type": "code",
      "metadata": {
        "colab": {
          "base_uri": "https://localhost:8080/"
        },
        "id": "3a1YBnNrX-fl",
        "outputId": "fa8d3ec8-b8c8-4afb-8912-29a58f58480c"
      },
      "source": [
        "#So what is the probability of survival? Survival =1, and not survival = 0\n",
        "print(result[0]['probabilities'][1])"
      ],
      "execution_count": null,
      "outputs": [
        {
          "output_type": "stream",
          "text": [
            "0.10363167\n"
          ],
          "name": "stdout"
        }
      ]
    },
    {
      "cell_type": "markdown",
      "metadata": {
        "id": "ysqjiTEXY-Jn"
      },
      "source": [
        "The first person's chance of survival"
      ]
    },
    {
      "cell_type": "code",
      "metadata": {
        "colab": {
          "base_uri": "https://localhost:8080/"
        },
        "id": "T7O0dMDWZDBQ",
        "outputId": "5cd0a99c-8e13-4c35-ded8-1f6620c16b5e"
      },
      "source": [
        "print(dfeval.loc[0]) #the predicted probability of survival\n",
        "print(y_eval.loc[0]) #the actual value. (Remember this column was sliced at the beginning so we could predict it)\n",
        "print(result[0]['probabilities'][1])"
      ],
      "execution_count": 28,
      "outputs": [
        {
          "output_type": "stream",
          "text": [
            "sex                          male\n",
            "age                            35\n",
            "n_siblings_spouses              0\n",
            "parch                           0\n",
            "fare                         8.05\n",
            "class                       Third\n",
            "deck                      unknown\n",
            "embark_town           Southampton\n",
            "alone                           y\n",
            "Name: 0, dtype: object\n",
            "0\n",
            "0.10363167\n"
          ],
          "name": "stdout"
        }
      ]
    },
    {
      "cell_type": "markdown",
      "metadata": {
        "id": "6EMVUmt1ZY2b"
      },
      "source": [
        "The second person's chances of survival..."
      ]
    },
    {
      "cell_type": "code",
      "metadata": {
        "colab": {
          "base_uri": "https://localhost:8080/"
        },
        "id": "uQ8MH4I2ZceG",
        "outputId": "a4b03e12-7cbf-47ee-a844-7df1a6f01e8a"
      },
      "source": [
        "print(dfeval.loc[1])\n",
        "print(y_eval.loc[1])\n",
        "print(result[1]['probabilities'][1])"
      ],
      "execution_count": 27,
      "outputs": [
        {
          "output_type": "stream",
          "text": [
            "sex                          male\n",
            "age                            54\n",
            "n_siblings_spouses              0\n",
            "parch                           0\n",
            "fare                      51.8625\n",
            "class                       First\n",
            "deck                            E\n",
            "embark_town           Southampton\n",
            "alone                           y\n",
            "Name: 1, dtype: object\n",
            "0\n",
            "0.5104505\n"
          ],
          "name": "stdout"
        }
      ]
    },
    {
      "cell_type": "markdown",
      "metadata": {
        "id": "fy-NZU4kZlDU"
      },
      "source": [
        "The third person's chances of survival"
      ]
    },
    {
      "cell_type": "code",
      "metadata": {
        "colab": {
          "base_uri": "https://localhost:8080/"
        },
        "id": "bk3K39IHZpw3",
        "outputId": "a6e8955d-cece-4cd9-9139-9471bea75dd6"
      },
      "source": [
        "print(dfeval.loc[2])\n",
        "print(y_eval.loc[2])\n",
        "print(result[2]['probabilities'][1])"
      ],
      "execution_count": 26,
      "outputs": [
        {
          "output_type": "stream",
          "text": [
            "sex                        female\n",
            "age                            58\n",
            "n_siblings_spouses              0\n",
            "parch                           0\n",
            "fare                        26.55\n",
            "class                       First\n",
            "deck                            C\n",
            "embark_town           Southampton\n",
            "alone                           y\n",
            "Name: 2, dtype: object\n",
            "1\n",
            "0.829865\n"
          ],
          "name": "stdout"
        }
      ]
    },
    {
      "cell_type": "code",
      "metadata": {
        "colab": {
          "base_uri": "https://localhost:8080/"
        },
        "id": "8ZxBLUr9aFK9",
        "outputId": "33143229-7573-470b-db78-54362149f7b6"
      },
      "source": [
        "print(dfeval.loc[3])\n",
        "print(y_eval.loc[3])\n",
        "print(result[3]['probabilities'][1])"
      ],
      "execution_count": 25,
      "outputs": [
        {
          "output_type": "stream",
          "text": [
            "sex                        female\n",
            "age                            55\n",
            "n_siblings_spouses              0\n",
            "parch                           0\n",
            "fare                           16\n",
            "class                      Second\n",
            "deck                      unknown\n",
            "embark_town           Southampton\n",
            "alone                           y\n",
            "Name: 3, dtype: object\n",
            "1\n",
            "0.7483945\n"
          ],
          "name": "stdout"
        }
      ]
    },
    {
      "cell_type": "code",
      "metadata": {
        "colab": {
          "base_uri": "https://localhost:8080/"
        },
        "id": "hwP1s01BaxLO",
        "outputId": "8000d5dc-94fc-439f-df09-6d02b013462a"
      },
      "source": [
        "print(dfeval.loc[100])\n",
        "print(y_eval.loc[100])\n",
        "print(result[100]['probabilities'][1])"
      ],
      "execution_count": 29,
      "outputs": [
        {
          "output_type": "stream",
          "text": [
            "sex                          male\n",
            "age                            30\n",
            "n_siblings_spouses              0\n",
            "parch                           0\n",
            "fare                         7.25\n",
            "class                       Third\n",
            "deck                      unknown\n",
            "embark_town           Southampton\n",
            "alone                           y\n",
            "Name: 100, dtype: object\n",
            "0\n",
            "0.11186324\n"
          ],
          "name": "stdout"
        }
      ]
    }
  ]
}